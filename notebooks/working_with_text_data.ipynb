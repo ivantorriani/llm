{
  "cells": [
    {
      "cell_type": "markdown",
      "metadata": {
        "id": "UaMUQQGmC8Cn"
      },
      "source": [
        "## Understanding Word Embeddings\n",
        "\n",
        "Just converting text to matrices in order to represent them in a way a computer can understand.\n",
        "\n",
        "Word2Vec is a pretrained model to generate embeddings.\n",
        "\n",
        "An interesting fact about embeddings is that when we are dealing with more advanced models, we require to store text embeddings in more dimensional space to account for more text."
      ]
    },
    {
      "cell_type": "markdown",
      "metadata": {
        "id": "v630j12fD70z"
      },
      "source": [
        "## Tokenizing Text\n"
      ]
    },
    {
      "cell_type": "markdown",
      "metadata": {
        "id": "OC9toBhZGdJk"
      },
      "source": [
        "Here is an example of opening text files and acessing things by character.\n",
        "\n",
        "There is basic ways and there is this customary way, fully fledged out for all types of punctuation.\n",
        "```python\n",
        "first_pass =re.split(r'([,.:;?_!\"()\\s]|--)', test_text)\n",
        "second_pass = re.split(r'([,.:;?_!\"()\\s]|--)', text[0:100])\n",
        "```\n",
        "\n",
        "is a good example"
      ]
    },
    {
      "cell_type": "code",
      "execution_count": null,
      "metadata": {
        "colab": {
          "base_uri": "https://localhost:8080/"
        },
        "id": "5OB5ORW3D7c-",
        "outputId": "4e095509-ac6d-4a1b-bf0f-d59724f823b5"
      },
      "outputs": [
        {
          "name": "stdout",
          "output_type": "stream",
          "text": [
            "20479 I HAD always thought Jack Gisburn rather a cheap genius--though a good fellow enough--so it was no g \n",
            "\n"
          ]
        }
      ],
      "source": [
        "with open(\"data/the-verdict.txt\", \"r\", encoding=\"utf-8\") as f:\n",
        "  text = f.read()\n",
        "\n",
        "print(len(text), text[0:100], '\\n')\n",
        "\n",
        "\n",
        "#more advanced split\n",
        "import re\n",
        "\n",
        "test_text = \"Hello, world. This is a test.\"\n",
        "\n",
        "first_pass =re.split(r'([,.:;?_!\"()\\s]|--)', test_text)\n",
        "second_pass = re.split(r'([,.:;?_!\"()\\s]|--)', text[0:100])\n",
        "preprocessed = re.split(r'([,.:;?_!\"()\\s]|--)', text)\n",
        "example_1 = [item.strip() for item in first_pass if item.strip()]\n",
        "example_2 = [item.strip() for item in second_pass if item.strip()]\n",
        "preprocessed = [item.strip() for item in preprocessed if item.strip()]\n"
      ]
    },
    {
      "cell_type": "markdown",
      "metadata": {
        "id": "ZbM617XvNTzH"
      },
      "source": [
        "### Converting Tokens to Token ID\n",
        "\n",
        "the first line just creates a alphabetical set (alphabetical, no repeats)\n",
        "\n",
        "the second mystical line is just a quick way to make a dictionary with each ! mapping to an index. it holds no correlation to the actual text -- it's just vocabulary."
      ]
    },
    {
      "cell_type": "code",
      "execution_count": null,
      "metadata": {
        "colab": {
          "base_uri": "https://localhost:8080/"
        },
        "id": "cxCQU0npGyIP",
        "outputId": "c58f0536-da0e-43d6-d5ba-f16543fb59c6"
      },
      "outputs": [
        {
          "name": "stdout",
          "output_type": "stream",
          "text": [
            "{'!': 0, '\"': 1, \"'\": 2, \"'Are\": 3, \"'It's\": 4, \"'coming'\": 5, \"'done'\": 6, \"'subject\": 7, \"'technique'\": 8, \"'way\": 9, '(': 10, ')': 11, ',': 12, '--': 13, '.': 14, ':': 15, ';': 16, '?': 17, 'A': 18, 'Ah': 19, 'Among': 20, 'And': 21, 'Arrt': 22, 'As': 23, 'At': 24, 'Be': 25, 'Begin': 26, 'Burlington': 27, 'But': 28, 'By': 29, 'Carlo': 30, 'Chicago': 31, 'Claude': 32, 'Come': 33, 'Croft': 34, 'Destroyed': 35, 'Devonshire': 36, \"Don't\": 37, 'Dubarry': 38, 'Emperors': 39, 'Florence': 40, 'For': 41, 'Gallery': 42, 'Gideon': 43, 'Gisburn': 44, \"Gisburn's\": 45, 'Gisburns': 46, 'Grafton': 47, 'Greek': 48, 'Grindle': 49, \"Grindle's\": 50, 'Grindles': 51, 'HAD': 52, 'Had': 53, 'Hang': 54, 'Has': 55, 'He': 56, 'Her': 57, 'Hermia': 58, \"Hermia's\": 59, 'His': 60, 'How': 61, 'I': 62, \"I'd\": 63, \"I'll\": 64, \"I've\": 65, 'If': 66, 'In': 67, 'It': 68, \"It's\": 69, 'Jack': 70, \"Jack's\": 71, 'Jove': 72, 'Just': 73, 'Lord': 74, 'Made': 75, 'Miss': 76, \"Money's\": 77, 'Monte': 78, 'Moon-dancers': 79, 'Mr': 80, 'Mrs': 81, 'My': 82, 'Never': 83, 'No': 84, 'Now': 85, 'Nutley': 86, 'Of': 87, 'Oh': 88, 'On': 89, 'Once': 90, 'Only': 91, 'Or': 92, 'Perhaps': 93, 'Poor': 94, 'Professional': 95, 'Renaissance': 96, 'Rickham': 97, 'Riviera': 98, 'Rome': 99, 'Russian': 100, 'Sevres': 101, 'She': 102, \"She's\": 103, 'Stroud': 104, \"Stroud's\": 105, 'Strouds': 106, 'Suddenly': 107, 'That': 108, \"That's\": 109, 'The': 110, 'Then': 111, 'There': 112, 'They': 113, 'This': 114, 'Those': 115, 'Though': 116, 'Thwing': 117, \"Thwing's\": 118, 'Thwings': 119, 'To': 120, 'Usually': 121, 'Venetian': 122, 'Victor': 123, 'Was': 124, 'We': 125, 'Well': 126, 'What': 127, 'When': 128, 'Why': 129, 'Yes': 130, 'You': 131, '_': 132, 'a': 133, 'abdication': 134, 'able': 135, 'about': 136, 'above': 137, 'abruptly': 138, 'absolute': 139, 'absorbed': 140, 'absurdity': 141, 'academic': 142, 'accuse': 143, 'accustomed': 144, 'across': 145, 'activity': 146, 'add': 147, 'added': 148, 'admirers': 149, 'adopted': 150, 'adulation': 151, 'advance': 152, 'aesthetic': 153, 'affect': 154, 'afraid': 155, 'after': 156, 'afterward': 157, 'again': 158, 'ago': 159, 'ah': 160, 'air': 161, 'alive': 162, 'all': 163, 'almost': 164, 'alone': 165, 'along': 166, 'always': 167, 'am': 168, 'amazement': 169, 'amid': 170, 'among': 171, 'amplest': 172, 'amusing': 173, 'an': 174, 'and': 175, 'another': 176, 'answer': 177, 'answered': 178, 'any': 179, 'anything': 180, 'anywhere': 181, 'apparent': 182, 'apparently': 183, 'appearance': 184, 'appeared': 185, 'appointed': 186, 'are': 187, 'arm': 188, 'arm-chair': 189, 'arm-chairs': 190, 'arms': 191, 'art': 192, 'articles': 193, 'artist': 194, 'as': 195, 'aside': 196, 'asked': 197, 'at': 198, 'atmosphere': 199, 'atom': 200, 'attack': 201, 'attention': 202, 'attitude': 203, 'audacities': 204, 'away': 205, 'awful': 206, 'axioms': 207, 'azaleas': 208, 'back': 209, 'background': 210, 'balance': 211, 'balancing': 212, 'balustraded': 213, 'basking': 214, 'bath-rooms': 215, 'be': 216, 'beaming': 217, 'bean-stalk': 218, 'bear': 219, 'beard': 220, 'beauty': 221, 'became': 222, 'because': 223, 'becoming': 224, 'bed': 225, 'been': 226, 'before': 227, 'began': 228, 'begun': 229, 'behind': 230, 'being': 231, 'believed': 232, 'beneath': 233, 'bespoke': 234, 'better': 235, 'between': 236, 'big': 237, 'bits': 238, 'bitterness': 239, 'blocked': 240, 'born': 241, 'borne': 242, 'boudoir': 243, 'bravura': 244, 'break': 245, 'breaking': 246, 'breathing': 247, 'bric-a-brac': 248, 'briefly': 249, 'brings': 250, 'bronzes': 251, 'brought': 252, 'brown': 253, 'brush': 254, 'bull': 255, 'business': 256, 'but': 257, 'buying': 258, 'by': 259, 'called': 260, 'came': 261, 'can': 262, 'canvas': 263, 'canvases': 264, 'cards': 265, 'care': 266, 'career': 267, 'caught': 268, 'central': 269, 'chair': 270, 'chap': 271, 'characteristic': 272, 'charming': 273, 'cheap': 274, 'check': 275, 'cheeks': 276, 'chest': 277, 'chimney-piece': 278, 'chucked': 279, 'cigar': 280, 'cigarette': 281, 'cigars': 282, 'circulation': 283, 'circumstance': 284, \"circus-clown's\": 285, 'claimed': 286, 'clasping': 287, 'clear': 288, 'cleverer': 289, 'close': 290, 'clue': 291, 'coat': 292, 'collapsed': 293, 'colour': 294, 'come': 295, 'comfortable': 296, 'coming': 297, 'companion': 298, 'compared': 299, 'complex': 300, 'confident': 301, 'congesting': 302, 'conjugal': 303, 'constraint': 304, 'consummate': 305, 'contended': 306, 'continued': 307, 'corner': 308, 'corrected': 309, 'could': 310, \"couldn't\": 311, 'count': 312, 'countenance': 313, 'couple': 314, 'course': 315, 'covered': 316, 'craft': 317, 'cried': 318, 'crossed': 319, 'crowned': 320, 'crumbled': 321, 'cry': 322, 'cured': 323, 'curiosity': 324, 'curious': 325, 'current': 326, 'curtains': 327, 'dabble': 328, 'damask': 329, 'dark': 330, 'dashed': 331, 'day': 332, 'days': 333, 'dead': 334, 'deadening': 335, 'dear': 336, 'deep': 337, \"deerhound's\": 338, 'degree': 339, 'delicate': 340, 'demand': 341, 'denied': 342, 'deploring': 343, 'deprecating': 344, 'deprecatingly': 345, 'desire': 346, 'destroyed': 347, 'destruction': 348, 'desultory': 349, 'detail': 350, 'diagnosis': 351, 'did': 352, \"didn't\": 353, 'died': 354, 'dim': 355, 'dimmest': 356, 'dingy': 357, 'dining-room': 358, 'disarming': 359, 'discovery': 360, 'discrimination': 361, 'discussion': 362, 'disdain': 363, 'disdained': 364, 'disease': 365, 'disguised': 366, 'display': 367, 'dissatisfied': 368, 'distinguished': 369, 'distract': 370, 'divert': 371, 'do': 372, \"doesn't\": 373, 'doing': 374, 'domestic': 375, \"don't\": 376, 'done': 377, 'donkey': 378, 'down': 379, 'dozen': 380, 'dragged': 381, 'drawing-room': 382, 'drawing-rooms': 383, 'drawn': 384, 'dress-closets': 385, 'drew': 386, 'dropped': 387, 'each': 388, 'earth': 389, 'ease': 390, 'easel': 391, 'easy': 392, 'echoed': 393, 'economy': 394, 'effect': 395, 'effects': 396, 'efforts': 397, 'egregious': 398, 'eighteenth-century': 399, 'elbow': 400, 'elegant': 401, 'else': 402, 'embarrassed': 403, 'enabled': 404, 'end': 405, 'endless': 406, 'enjoy': 407, 'enlightenment': 408, 'enough': 409, 'ensuing': 410, 'equally': 411, 'equanimity': 412, 'escape': 413, 'established': 414, 'etching': 415, 'even': 416, 'event': 417, 'ever': 418, 'everlasting': 419, 'every': 420, 'exasperated': 421, 'except': 422, 'excuse': 423, 'excusing': 424, 'existed': 425, 'expected': 426, 'exquisite': 427, 'exquisitely': 428, 'extenuation': 429, 'exterminating': 430, 'extracting': 431, 'eye': 432, 'eyebrows': 433, 'eyes': 434, 'face': 435, 'faces': 436, 'fact': 437, 'faded': 438, 'failed': 439, 'failure': 440, 'fair': 441, 'faith': 442, 'false': 443, 'familiar': 444, 'famille-verte': 445, 'fancy': 446, 'fashionable': 447, 'fate': 448, 'feather': 449, 'feet': 450, 'fell': 451, 'fellow': 452, 'felt': 453, 'few': 454, 'fewer': 455, 'finality': 456, 'find': 457, 'fingers': 458, 'first': 459, 'fit': 460, 'fitting': 461, 'five': 462, 'flash': 463, 'flashed': 464, 'florid': 465, 'flowers': 466, 'fluently': 467, 'flung': 468, 'follow': 469, 'followed': 470, 'fond': 471, 'footstep': 472, 'for': 473, 'forced': 474, 'forcing': 475, 'forehead': 476, 'foreign': 477, 'foreseen': 478, 'forgive': 479, 'forgotten': 480, 'form': 481, 'formed': 482, 'forming': 483, 'forward': 484, 'fostered': 485, 'found': 486, 'foundations': 487, 'fragment': 488, 'fragments': 489, 'frame': 490, 'frames': 491, 'frequently': 492, \"friend's\": 493, 'from': 494, 'full': 495, 'fullest': 496, 'furiously': 497, 'furrowed': 498, 'garlanded': 499, 'garlands': 500, 'gave': 501, 'genial': 502, 'genius': 503, 'gesture': 504, 'get': 505, 'getting': 506, 'give': 507, 'given': 508, 'glad': 509, 'glanced': 510, 'glimpse': 511, 'gloried': 512, 'glory': 513, 'go': 514, 'going': 515, 'gone': 516, 'good': 517, 'good-breeding': 518, 'good-humoured': 519, 'got': 520, 'grace': 521, 'gradually': 522, 'gray': 523, 'grayish': 524, 'great': 525, 'greatest': 526, 'greatness': 527, 'grew': 528, 'groping': 529, 'growing': 530, 'had': 531, \"hadn't\": 532, 'hair': 533, 'half': 534, 'half-light': 535, 'half-mechanically': 536, 'hall': 537, 'hand': 538, 'hands': 539, 'handsome': 540, 'hanging': 541, 'happen': 542, 'happened': 543, 'hard': 544, 'hardly': 545, 'has': 546, 'have': 547, \"haven't\": 548, 'having': 549, 'he': 550, \"he'd\": 551, \"he's\": 552, 'head': 553, 'hear': 554, 'heard': 555, 'heart': 556, 'height': 557, 'her': 558, 'here': 559, 'hermit': 560, 'herself': 561, 'hesitations': 562, 'hide': 563, 'high': 564, 'him': 565, 'himself': 566, 'hint': 567, 'his': 568, 'history': 569, 'holding': 570, 'home': 571, 'honour': 572, 'hooded': 573, 'hostess': 574, 'hot-house': 575, 'hour': 576, 'hours': 577, 'house': 578, 'how': 579, \"how'\": 580, 'hung': 581, 'husband': 582, \"husband's\": 583, 'idea': 584, 'idle': 585, 'idling': 586, 'if': 587, 'immediately': 588, 'in': 589, 'incense': 590, 'indifferent': 591, 'inevitable': 592, 'inevitably': 593, 'inflexible': 594, 'insensible': 595, 'insignificant': 596, 'instinctively': 597, 'instructive': 598, 'interesting': 599, 'into': 600, 'ironic': 601, 'irony': 602, 'irrelevance': 603, 'irrevocable': 604, 'is': 605, 'it': 606, \"it's\": 607, 'its': 608, 'itself': 609, 'jardiniere': 610, 'jealousy': 611, 'just': 612, 'keep': 613, 'kept': 614, 'kind': 615, 'knees': 616, 'knew': 617, 'know': 618, 'known': 619, 'laid': 620, 'lair': 621, 'landing': 622, 'language': 623, 'last': 624, 'late': 625, 'later': 626, 'latter': 627, \"latter's\": 628, 'laugh': 629, 'laughed': 630, 'lay': 631, 'leading': 632, 'lean': 633, 'learned': 634, 'least': 635, 'leathery': 636, 'leave': 637, 'led': 638, 'left': 639, 'leisure': 640, 'lends': 641, 'lent': 642, 'let': 643, 'lies': 644, 'life': 645, 'life-likeness': 646, 'lift': 647, 'lifted': 648, 'light': 649, 'lightly': 650, 'like': 651, 'liked': 652, 'line': 653, 'lines': 654, 'lingered': 655, 'lips': 656, 'lit': 657, 'little': 658, 'live': 659, 'loathing': 660, 'long': 661, 'longed': 662, 'longer': 663, 'look': 664, 'looked': 665, 'looking': 666, 'lose': 667, 'loss': 668, 'lounging': 669, 'lovely': 670, 'lucky': 671, 'lump': 672, 'luncheon-table': 673, 'luxury': 674, 'lying': 675, 'made': 676, 'make': 677, 'man': 678, 'manage': 679, 'managed': 680, 'mantel-piece': 681, 'marble': 682, 'married': 683, 'may': 684, 'me': 685, 'meant': 686, 'mediocrity': 687, 'medium': 688, 'mentioned': 689, 'mere': 690, 'merely': 691, 'met': 692, 'might': 693, 'mighty': 694, \"millionaire's\": 695, 'mine': 696, 'minute': 697, 'minutes': 698, 'mirrors': 699, 'modest': 700, 'modesty': 701, 'moment': 702, 'money': 703, 'monumental': 704, 'mood': 705, 'morbidly': 706, 'more': 707, 'most': 708, 'mourn': 709, 'mourned': 710, 'moustache': 711, 'moved': 712, 'much': 713, 'muddling': 714, 'multiplied': 715, 'murmur': 716, 'muscles': 717, 'must': 718, 'my': 719, 'myself': 720, 'mysterious': 721, 'naive': 722, 'near': 723, 'nearly': 724, 'negatived': 725, 'nervous': 726, 'nervousness': 727, 'neutral': 728, 'never': 729, 'next': 730, 'no': 731, 'none': 732, 'not': 733, 'note': 734, 'nothing': 735, 'now': 736, 'nymphs': 737, 'oak': 738, 'obituary': 739, 'object': 740, 'objects': 741, 'occurred': 742, 'oddly': 743, 'of': 744, 'off': 745, 'often': 746, 'oh': 747, 'old': 748, 'on': 749, 'once': 750, 'one': 751, 'ones': 752, 'only': 753, 'onto': 754, 'open': 755, 'or': 756, 'other': 757, 'our': 758, 'ourselves': 759, 'out': 760, 'outline': 761, 'oval': 762, 'over': 763, 'own': 764, 'packed': 765, 'paid': 766, 'paint': 767, 'painted': 768, 'painter': 769, 'painting': 770, 'pale': 771, 'paled': 772, 'palm-trees': 773, 'panel': 774, 'panelling': 775, 'pardonable': 776, 'pardoned': 777, 'part': 778, 'passages': 779, 'passing': 780, 'past': 781, 'pastels': 782, 'pathos': 783, 'patient': 784, 'people': 785, 'perceptible': 786, 'perfect': 787, 'persistence': 788, 'persuasively': 789, 'phrase': 790, 'picture': 791, 'pictures': 792, 'pines': 793, 'pink': 794, 'place': 795, 'placed': 796, 'plain': 797, 'platitudes': 798, 'pleased': 799, 'pockets': 800, 'point': 801, 'poised': 802, 'poor': 803, 'portrait': 804, 'posing': 805, 'possessed': 806, 'poverty': 807, 'predicted': 808, 'preliminary': 809, 'presenting': 810, 'prestidigitation': 811, 'pretty': 812, 'previous': 813, 'price': 814, 'pride': 815, 'princely': 816, 'prism': 817, 'problem': 818, 'proclaiming': 819, 'prodigious': 820, 'profusion': 821, 'protest': 822, 'prove': 823, 'public': 824, 'purblind': 825, 'purely': 826, 'pushed': 827, 'put': 828, 'qualities': 829, 'quality': 830, 'queerly': 831, 'question': 832, 'quickly': 833, 'quietly': 834, 'quite': 835, 'quote': 836, 'rain': 837, 'raised': 838, 'random': 839, 'rather': 840, 'real': 841, 'really': 842, 'reared': 843, 'reason': 844, 'reassurance': 845, 'recovering': 846, 'recreated': 847, 'reflected': 848, 'reflection': 849, 'regrets': 850, 'relatively': 851, 'remained': 852, 'remember': 853, 'reminded': 854, 'repeating': 855, 'represented': 856, 'reproduction': 857, 'resented': 858, 'resolve': 859, 'resources': 860, 'rest': 861, 'rich': 862, 'ridiculous': 863, 'robbed': 864, 'romantic': 865, 'room': 866, 'rose': 867, 'rs': 868, 'rule': 869, 'run': 870, 'said': 871, 'same': 872, 'satisfaction': 873, 'savour': 874, 'saw': 875, 'say': 876, 'saying': 877, 'says': 878, 'scorn': 879, 'scornful': 880, 'secret': 881, 'see': 882, 'seemed': 883, 'seen': 884, 'self-confident': 885, 'send': 886, 'sensation': 887, 'sensitive': 888, 'sent': 889, 'serious': 890, 'set': 891, 'sex': 892, 'shade': 893, 'shaking': 894, 'shall': 895, 'she': 896, \"she's\": 897, 'shirked': 898, 'short': 899, 'should': 900, 'shoulder': 901, 'shoulders': 902, 'show': 903, 'showed': 904, 'showy': 905, 'shrug': 906, 'shrugged': 907, 'sight': 908, 'sign': 909, 'silent': 910, 'silver': 911, 'similar': 912, 'simpleton': 913, 'simplifications': 914, 'simply': 915, 'since': 916, 'single': 917, 'sitter': 918, 'sitters': 919, 'sketch': 920, 'skill': 921, 'slight': 922, 'slightly': 923, 'slowly': 924, 'small': 925, 'smile': 926, 'smiling': 927, 'sneer': 928, 'so': 929, 'solace': 930, 'some': 931, 'somebody': 932, 'something': 933, 'spacious': 934, 'spaniel': 935, 'speaking-tubes': 936, 'speculations': 937, 'spite': 938, 'splash': 939, 'square': 940, 'stairs': 941, 'stammer': 942, 'stand': 943, 'standing': 944, 'started': 945, 'stay': 946, 'still': 947, 'stocked': 948, 'stood': 949, 'stopped': 950, 'stopping': 951, 'straddling': 952, 'straight': 953, 'strain': 954, 'straining': 955, 'strange': 956, 'straw': 957, 'stream': 958, 'stroke': 959, 'strokes': 960, 'strolled': 961, 'strongest': 962, 'strongly': 963, 'struck': 964, 'studio': 965, 'stuff': 966, 'subject': 967, 'substantial': 968, 'suburban': 969, 'such': 970, 'suddenly': 971, 'suffered': 972, 'sugar': 973, 'suggested': 974, 'sunburn': 975, 'sunburnt': 976, 'sunlit': 977, 'superb': 978, 'sure': 979, 'surest': 980, 'surface': 981, 'surprise': 982, 'surprised': 983, 'surrounded': 984, 'suspected': 985, 'sweetly': 986, 'sweetness': 987, 'swelling': 988, 'swept': 989, 'swum': 990, 'table': 991, 'take': 992, 'taken': 993, 'talking': 994, 'tea': 995, 'tears': 996, 'technicalities': 997, 'tell': 998, 'tells': 999, 'tempting': 1000, 'terra-cotta': 1001, 'terrace': 1002, 'terraces': 1003, 'terribly': 1004, 'than': 1005, 'that': 1006, 'the': 1007, 'their': 1008, 'them': 1009, 'then': 1010, 'there': 1011, \"there's\": 1012, 'therefore': 1013, 'they': 1014, \"they're\": 1015, 'thin': 1016, 'thing': 1017, 'things': 1018, 'think': 1019, 'this': 1020, 'thither': 1021, 'those': 1022, 'though': 1023, 'thought': 1024, 'three': 1025, 'threshold': 1026, 'threw': 1027, 'through': 1028, 'throwing': 1029, 'tie': 1030, 'till': 1031, 'time': 1032, 'timorously': 1033, 'tinge': 1034, 'tips': 1035, 'tired': 1036, 'to': 1037, 'told': 1038, 'tone': 1039, 'tones': 1040, 'too': 1041, 'took': 1042, 'tottering': 1043, 'touched': 1044, 'toward': 1045, 'trace': 1046, 'trade': 1047, 'transmute': 1048, 'traps': 1049, 'travelled': 1050, 'tribute': 1051, 'tributes': 1052, 'tricks': 1053, 'tried': 1054, 'trouser-presses': 1055, 'true': 1056, 'truth': 1057, 'turned': 1058, 'twenty': 1059, 'twenty-four': 1060, 'twice': 1061, 'twirling': 1062, 'unaccountable': 1063, 'uncertain': 1064, 'under': 1065, 'underlay': 1066, 'underneath': 1067, 'understand': 1068, 'unexpected': 1069, 'untouched': 1070, 'unusual': 1071, 'up': 1072, 'up-stream': 1073, 'upon': 1074, 'upset': 1075, 'upstairs': 1076, 'us': 1077, 'used': 1078, 'usual': 1079, 'value': 1080, 'varnishing': 1081, 'vases': 1082, 'veins': 1083, 'velveteen': 1084, 'very': 1085, 'villa': 1086, 'vindicated': 1087, 'virtuosity': 1088, 'vista': 1089, 'vocation': 1090, 'voice': 1091, 'wall': 1092, 'wander': 1093, 'want': 1094, 'wanted': 1095, 'wants': 1096, 'was': 1097, \"wasn't\": 1098, 'watched': 1099, 'watching': 1100, 'water-colour': 1101, 'waves': 1102, 'way': 1103, 'weekly': 1104, 'weeks': 1105, \"weeks'\": 1106, 'welcome': 1107, 'went': 1108, 'were': 1109, 'what': 1110, 'when': 1111, 'whenever': 1112, 'where': 1113, 'which': 1114, 'while': 1115, 'white': 1116, 'white-panelled': 1117, 'who': 1118, 'whole': 1119, 'whom': 1120, 'why': 1121, 'wide': 1122, 'widow': 1123, 'wife': 1124, \"wife's\": 1125, 'wild': 1126, 'wincing': 1127, 'window-curtains': 1128, 'wish': 1129, 'with': 1130, 'without': 1131, \"wits'\": 1132, 'woman': 1133, 'women': 1134, \"won't\": 1135, 'wonder': 1136, 'wondered': 1137, 'word': 1138, 'work': 1139, 'working': 1140, 'worth': 1141, 'would': 1142, \"wouldn't\": 1143, 'year': 1144, 'years': 1145, 'yellow': 1146, 'yet': 1147, 'you': 1148, \"you'd\": 1149, \"you're\": 1150, 'younger': 1151, 'your': 1152, 'yourself': 1153, '<|endoftext|>': 1154, '<|unk|>': 1155}\n"
          ]
        }
      ],
      "source": [
        "alphabetical_words = sorted(set(preprocessed))\n",
        "alphabetical_words.extend([\"<|endoftext|>\", \"<|unk|>\"])\n",
        "vocabulary = {token:integer for integer, token in enumerate(alphabetical_words)}\n",
        "print(vocabulary)"
      ]
    },
    {
      "cell_type": "markdown",
      "metadata": {
        "id": "NSesmhewPZNL"
      },
      "source": [
        "#### Creating Tokenizer Class (So that we can supprt backwards operations)\n",
        "\n",
        "In other words, if we have an operation to convert a token into a matrix, we should have a backward implementation. It has build in functionality for everything we've been doing"
      ]
    },
    {
      "cell_type": "code",
      "execution_count": null,
      "metadata": {
        "id": "5E3PkuEkOP-a"
      },
      "outputs": [],
      "source": [
        "class SimpleTokenizerV1:\n",
        "    def __init__(self, vocabulary):\n",
        "        self.str_to_int = vocabulary\n",
        "        self.int_to_str = {i:s for s,i in vocabulary.items()}\n",
        "\n",
        "    def encode(self, text):\n",
        "        preprocessed = re.split('([,.:;?_!\"()\\s]|--)', text)\n",
        "\n",
        "        preprocessed = [\n",
        "            item.strip() for item in preprocessed if item.strip()\n",
        "        ]\n",
        "\n",
        "        ids = [self.str_to_int[s] for s in preprocessed]\n",
        "        return ids\n",
        "\n",
        "    def decode(self, ids):\n",
        "        text = \" \".join([self.int_to_str[i] for i in ids])\n",
        "        # Replace spaces before the specified punctuations\n",
        "        text = re.sub(r'\\s+([,.?!\"()\\'])', r'\\1', text)\n",
        "        return text\n",
        "\n"
      ]
    },
    {
      "cell_type": "code",
      "execution_count": null,
      "metadata": {
        "id": "8u42KQaT59QC"
      },
      "outputs": [],
      "source": [
        "class SimpleTokenizerV2:\n",
        "    def __init__(self, vocab):\n",
        "        self.str_to_int = vocab\n",
        "        self.int_to_str = { i:s for s,i in vocab.items()}\n",
        "\n",
        "    def encode(self, text):\n",
        "        preprocessed = re.split(r'([,.:;?_!\"()\\']|--|\\s)', text)\n",
        "        preprocessed = [item.strip() for item in preprocessed if item.strip()]\n",
        "        preprocessed = [\n",
        "            item if item in self.str_to_int\n",
        "            else \"<|unk|>\" for item in preprocessed\n",
        "        ]\n",
        "\n",
        "        ids = [self.str_to_int[s] for s in preprocessed]\n",
        "        return ids\n",
        "\n",
        "    def decode(self, ids):\n",
        "        text = \" \".join([self.int_to_str[i] for i in ids])\n",
        "        # Replace spaces before the specified punctuations\n",
        "        text = re.sub(r'\\s+([,.:;?!\"()\\'])', r'\\1', text)\n",
        "        return text"
      ]
    },
    {
      "cell_type": "markdown",
      "metadata": {
        "id": "TzFHK7AKGnCv"
      },
      "source": [
        "#### Tiktoken tokenizer\n",
        "\n",
        "much more widespread then a custom tokenizer, handles more cases, probably more useful since it's more built out."
      ]
    },
    {
      "cell_type": "code",
      "execution_count": null,
      "metadata": {
        "colab": {
          "base_uri": "https://localhost:8080/",
          "height": 157
        },
        "id": "CoZ_rjP9FQ9_",
        "outputId": "6909bf12-a697-4791-849d-27b928a4bae5"
      },
      "outputs": [
        {
          "name": "stdout",
          "output_type": "stream",
          "text": [
            "Requirement already satisfied: tiktoken==0.7.0 in /usr/local/lib/python3.11/dist-packages (0.7.0)\n",
            "Requirement already satisfied: regex>=2022.1.18 in /usr/local/lib/python3.11/dist-packages (from tiktoken==0.7.0) (2024.11.6)\n",
            "Requirement already satisfied: requests>=2.26.0 in /usr/local/lib/python3.11/dist-packages (from tiktoken==0.7.0) (2.32.3)\n",
            "Requirement already satisfied: charset-normalizer<4,>=2 in /usr/local/lib/python3.11/dist-packages (from requests>=2.26.0->tiktoken==0.7.0) (3.4.2)\n",
            "Requirement already satisfied: idna<4,>=2.5 in /usr/local/lib/python3.11/dist-packages (from requests>=2.26.0->tiktoken==0.7.0) (3.10)\n",
            "Requirement already satisfied: urllib3<3,>=1.21.1 in /usr/local/lib/python3.11/dist-packages (from requests>=2.26.0->tiktoken==0.7.0) (2.5.0)\n",
            "Requirement already satisfied: certifi>=2017.4.17 in /usr/local/lib/python3.11/dist-packages (from requests>=2.26.0->tiktoken==0.7.0) (2025.7.14)\n"
          ]
        },
        {
          "data": {
            "application/vnd.google.colaboratory.intrinsic+json": {
              "type": "string"
            },
            "text/plain": [
              "'0.7.0'"
            ]
          },
          "execution_count": 6,
          "metadata": {},
          "output_type": "execute_result"
        }
      ],
      "source": [
        "\n",
        "!pip install tiktoken==0.7.0\n",
        "from importlib.metadata import version\n",
        "import tiktoken\n",
        "\n",
        "version(\"tiktoken\")\n"
      ]
    },
    {
      "cell_type": "code",
      "execution_count": null,
      "metadata": {
        "colab": {
          "base_uri": "https://localhost:8080/"
        },
        "id": "29Qzy3TsGSNL",
        "outputId": "cd1a0558-3dd9-427d-abc3-4b7da6db9e3d"
      },
      "outputs": [
        {
          "name": "stdout",
          "output_type": "stream",
          "text": [
            "[31373, 2802] hello mother\n"
          ]
        }
      ],
      "source": [
        "tiktoken_tokenizer = tiktoken.get_encoding(\"gpt2\")\n",
        "example_text = \"hello mother\"\n",
        "encoded_data = tiktoken_tokenizer.encode(example_text, allowed_special={'<|endoftext|>'})\n",
        "decoded_data = tiktoken_tokenizer.decode(encoded_data)\n",
        "print(encoded_data, decoded_data)"
      ]
    },
    {
      "cell_type": "markdown",
      "metadata": {
        "id": "44_aDKSE4RPy"
      },
      "source": [
        "#### Example Encode / Decode (Lame custom classes)\n",
        "\n",
        "Important to remember that we pass in raw text into the encode. It seems strange that we have to pass proccessed vocabulary, but it is what it is.\n",
        "\n"
      ]
    },
    {
      "cell_type": "code",
      "execution_count": null,
      "metadata": {
        "colab": {
          "base_uri": "https://localhost:8080/"
        },
        "id": "vpycGsFNQGBf",
        "outputId": "83136807-fc55-4023-a9d8-b2437c7ec412"
      },
      "outputs": [
        {
          "name": "stdout",
          "output_type": "stream",
          "text": [
            "[62, 52, 167, 1024, 70, 44, 840, 133, 274, 503, 13, 1023, 133, 517, 452, 409, 13, 929, 606, 1097, 731, 525, 982, 1037, 685, 1037, 554, 1006, 12, 589, 1007, 557, 744, 568, 513, 12, 550, 531, 387, 568, 770, 12, 683, 133, 862, 1123, 12, 175, 414, 566, 589, 133, 1086, 749, 1007, 98, 14, 10, 116, 62, 840, 1024, 606, 1142, 547, 226, 99, 756, 40, 14, 11, 1, 110, 557, 744, 568, 513, 1, 13, 1006, 1097, 1110, 1007, 1134, 260, 606, 14, 62, 262, 554, 81, 14, 43, 117, 13, 568, 624, 31, 918, 13, 343, 568, 1063, 134, 14, 1, 87, 315, 607, 515, 1037, 886, 1007, 1080, 744, 719, 791, 9, 1072, 16, 257, 62, 376, 1019, 744, 1006, 12, 80, 14, 97, 13, 1007, 668, 1037, 22, 605, 163, 62, 1019, 744, 14, 1, 110, 1138, 12, 749, 81, 14, 118, 656, 12, 715, 608, 132, 868, 132, 195, 1023, 1014, 1109, 848, 589, 174, 406, 1089, 744, 699, 14, 21, 606, 1097, 733, 753, 1007, 81, 14, 119, 1118, 710, 14, 53, 733, 1007, 427, 58, 34, 12, 198, 1007, 624, 47, 42, 903, 12, 950, 685, 227, 45, 1, 79, 1, 1037, 876, 12, 1130, 996, 589, 558, 434, 15, 1, 125, 895, 733, 664, 1074, 608, 651, 158, 1, 17, 126, 0, 13, 416, 1028, 1007, 817, 744, 59, 996, 62, 453, 135, 1037, 435, 1007, 437, 1130, 412, 14, 94, 70, 44, 0, 110, 1134, 531, 676, 565, 13, 606, 1097, 461, 1006, 1014, 900, 709, 565, 14, 20, 568, 764, 892, 455, 850, 1109, 555, 12, 175, 589, 568, 764, 1047, 545, 133, 716, 14, 95, 611, 17, 93, 14, 66, 606, 1109, 12, 1007, 572, 744, 1007, 317, 1097, 1087, 259, 658, 32, 86, 12, 1118, 12, 589, 163, 517, 442, 12, 252, 760, 589, 1007, 27, 133, 1085, 540, 1, 739, 1, 749, 70, 13, 751, 744, 1022, 905, 193, 948, 1130, 839, 997, 1006, 62, 547, 555, 10, 62, 1135, 876, 259, 1120, 11, 299, 1037, 45, 770, 14, 21, 929, 13, 568, 859, 231, 183, 604, 13, 1007, 362, 522, 354, 760, 12, 175, 12, 195, 81, 14, 117, 531, 808, 12, 1007, 814, 744, 1, 46, 1, 1108, 1072, 14, 68, 1097, 733, 1031, 1025, 1145, 626, 1006, 12, 589, 1007, 315, 744, 133, 454, 1106, 586, 749, 1007, 98, 12, 606, 971, 742, 1037, 685, 1037, 1136, 1121, 44, 531, 508, 1072, 568, 770, 14, 89, 849, 12, 606, 842, 1097, 133, 1000, 818, 14, 120, 143, 568, 1124, 1142, 547, 226, 1041, 392, 13, 568, 441, 919, 531, 226, 342, 1007, 930, 744, 877, 1006, 81, 14, 44, 531, 1, 381, 565, 379, 14, 1, 41, 81, 14, 44, 13, 195, 970, 13, 531, 733, 425, 1031, 724, 133, 1144, 156, 71, 859, 531, 226, 993, 14, 68, 693, 216, 1006, 550, 531, 683, 558, 13, 916, 550, 652, 568, 390, 13, 223, 550, 353, 1094, 1037, 514, 749, 770, 16, 257, 606, 1142, 547, 226, 544, 1037, 823, 1006, 550, 531, 508, 1072, 568, 770, 223, 550, 531, 683, 558, 14, 87, 315, 12, 587, 896, 531, 733, 381, 565, 379, 12, 896, 531, 411, 12, 195, 76, 34, 306, 12, 439, 1037, 1, 647, 565, 1072, 1, 13, 896, 531, 733, 638, 565, 209, 1037, 1007, 391, 14, 120, 828, 1007, 254, 600, 568, 538, 158, 13, 1110, 133, 1090, 473, 133, 1124, 0, 28, 81, 14, 44, 185, 1037, 547, 364, 606, 13, 175, 62, 453, 606, 693, 216, 599, 1037, 457, 760, 1121, 14, 110, 349, 645, 744, 1007, 98, 641, 609, 1037, 970, 826, 142, 937, 16, 175, 549, 12, 749, 719, 1103, 1037, 78, 30, 12, 268, 133, 511, 744, 71, 213, 1003, 236, 1007, 793, 12, 62, 531, 720, 242, 1021, 1007, 730, 332, 14, 62, 486, 1007, 314, 198, 995, 233, 1008, 773, 16, 175, 81, 14, 45, 1107, 1097, 929, 502, 1006, 12, 589, 1007, 410, 1105, 12, 62, 286, 606, 492, 14, 68, 1097, 733, 1006, 719, 574, 1097, 1, 599, 1, 15, 749, 1006, 801, 62, 310, 547, 508, 76, 34, 1007, 496, 845, 14, 68, 1097, 612, 223, 896, 1097, 132, 733, 132, 599, 13, 587, 62, 684, 216, 777, 1007, 255, 13, 1006, 62, 486, 558, 929, 14, 41, 70, 12, 163, 568, 645, 12, 531, 226, 984, 259, 599, 1134, 15, 1014, 531, 485, 568, 192, 12, 606, 531, 226, 843, 589, 1007, 575, 744, 1008, 151, 14, 21, 606, 1097, 1013, 598, 1037, 734, 1110, 395, 1007, 1, 335, 199, 744, 687, 1, 10, 62, 836, 76, 34, 11, 1097, 549, 749, 565, 14, 62, 547, 689, 1006, 81, 14, 44, 1097, 862, 16, 175, 606, 1097, 588, 786, 1006, 558, 582, 1097, 431, 494, 1020, 284, 133, 340, 257, 968, 873, 14, 68, 605, 12, 195, 133, 869, 12, 1007, 785, 1118, 879, 703, 1118, 505, 708, 760, 744, 606, 16, 175, 71, 401, 363, 744, 568, 1125, 237, 211, 404, 565, 12, 1130, 174, 184, 744, 787, 518, 12, 1037, 1048, 606, 600, 741, 744, 192, 175, 674, 14, 120, 1007, 627, 12, 62, 718, 147, 12, 550, 852, 851, 591, 16, 257, 550, 1097, 258, 96, 251, 175, 399, 792, 1130, 133, 361, 1006, 234, 1007, 172, 860, 14, 1, 77, 753, 423, 605, 1037, 828, 221, 600, 283, 12, 1, 1097, 751, 744, 1007, 207, 550, 620, 379, 145, 1007, 101, 175, 911, 744, 174, 428, 186, 673, 12, 1111, 12, 749, 133, 626, 332, 12, 62, 531, 158, 870, 763, 494, 78, 30, 16, 175, 81, 14, 44, 12, 217, 749, 565, 12, 148, 473, 719, 408, 15, 1, 70, 605, 929, 706, 888, 1037, 420, 481, 744, 221, 14, 1, 94, 70, 0, 68, 531, 167, 226, 568, 448, 1037, 547, 1134, 876, 970, 1018, 744, 565, 15, 1007, 437, 900, 216, 891, 379, 589, 429, 14, 127, 964, 685, 736, 1097, 1006, 12, 473, 1007, 459, 1032, 12, 550, 858, 1007, 1039, 14, 62, 531, 884, 565, 12, 929, 746, 12, 214, 1065, 912, 1052, 13, 1097, 606, 1007, 303, 734, 1006, 864, 1009, 744, 1008, 874, 17, 84, 13, 473, 12, 743, 409, 12, 606, 222, 182, 1006, 550, 1097, 471, 744, 81, 14, 44, 13, 471, 409, 733, 1037, 882, 558, 141, 14, 68, 1097, 568, 764, 141, 550, 883, 1037, 216, 1127, 1065, 13, 568, 764, 203, 195, 174, 740, 473, 500, 175, 590, 14, 1, 82, 336, 12, 916, 65, 279, 770, 785, 376, 876, 1006, 966, 136, 685, 13, 1014, 876, 606, 136, 123, 49, 12, 1, 1097, 568, 753, 822, 12, 195, 550, 867, 494, 1007, 991, 175, 961, 760, 754, 1007, 977, 1002, 14, 62, 510, 156, 565, 12, 964, 259, 568, 624, 1138, 14, 123, 49, 1097, 12, 589, 437, 12, 224, 1007, 678, 744, 1007, 702, 13, 195, 70, 566, 12, 751, 693, 828, 606, 12, 531, 226, 1007, 678, 744, 1007, 576, 14, 110, 1151, 194, 1097, 871, 1037, 547, 482, 566, 198, 719, 493, 450, 12, 175, 62, 1137, 587, 133, 1034, 744, 611, 1066, 1007, 628, 721, 134, 14, 28, 731, 13, 473, 606, 1097, 733, 1031, 156, 1006, 417, 1006, 1007, 132, 867, 38, 132, 383, 531, 229, 1037, 367, 1008, 1, 51, 14, 1, 62, 1058, 1037, 81, 14, 44, 12, 1118, 531, 655, 1037, 507, 133, 672, 744, 973, 1037, 558, 935, 589, 1007, 358, 14, 1, 129, 132, 546, 132, 550, 279, 770, 17, 1, 62, 197, 138, 14, 102, 838, 558, 433, 1130, 133, 567, 744, 519, 982, 14, 1, 88, 12, 550, 373, 132, 547, 132, 1037, 736, 12, 1148, 618, 16, 175, 62, 1094, 565, 1037, 407, 566, 12, 1, 896, 871, 835, 915, 14, 62, 665, 136, 1007, 934, 1117, 866, 12, 1130, 608, 132, 445, 132, 1082, 855, 1007, 1040, 744, 1007, 771, 329, 327, 12, 175, 608, 399, 782, 589, 340, 438, 491, 14, 1, 55, 550, 279, 568, 792, 1041, 17, 62, 548, 884, 133, 917, 751, 589, 1007, 578, 14, 1, 18, 922, 893, 744, 304, 319, 81, 14, 45, 755, 313, 14, 1, 69, 568, 863, 701, 12, 1148, 618, 14, 56, 878, 1015, 733, 460, 1037, 547, 136, 16, 552, 889, 1009, 163, 205, 422, 751, 13, 719, 804, 13, 175, 1006, 62, 547, 1037, 613, 1076, 14, 1, 60, 863, 701, 13, 71, 701, 136, 568, 792, 17, 82, 324, 1097, 530, 651, 1007, 218, 14, 62, 871, 789, 1037, 719, 574, 15, 1, 62, 718, 842, 882, 1152, 804, 12, 1148, 618, 14, 1, 102, 510, 760, 164, 1033, 198, 1007, 1002, 1113, 558, 582, 12, 669, 589, 133, 573, 270, 12, 531, 657, 133, 280, 175, 384, 1007, 100, 338, 553, 236, 568, 616, 14, 1, 126, 12, 295, 1115, 552, 733, 666, 12, 1, 896, 871, 12, 1130, 133, 629, 1006, 1054, 1037, 563, 558, 727, 16, 175, 62, 470, 558, 236, 1007, 682, 39, 744, 1007, 537, 12, 175, 1072, 1007, 1122, 941, 1130, 1001, 737, 802, 171, 466, 198, 388, 622, 14, 67, 1007, 356, 308, 744, 558, 243, 12, 170, 133, 821, 744, 340, 175, 369, 741, 12, 581, 751, 744, 1007, 444, 762, 264, 12, 589, 1007, 592, 499, 490, 14, 110, 690, 761, 744, 1007, 490, 260, 1072, 163, 45, 781, 0, 81, 14, 44, 386, 209, 1007, 1128, 12, 712, 196, 133, 132, 610, 132, 495, 744, 794, 208, 12, 827, 174, 189, 205, 12, 175, 871, 15, 1, 66, 1148, 943, 559, 1148, 262, 612, 679, 1037, 882, 606, 14, 62, 531, 606, 763, 1007, 681, 12, 257, 550, 1143, 643, 606, 946, 14, 1, 130, 13, 62, 310, 612, 679, 1037, 882, 606, 13, 1007, 459, 804, 744, 71, 62, 531, 418, 531, 1037, 954, 719, 434, 763, 0, 121, 1014, 531, 1007, 795, 744, 572, 13, 876, 1007, 269, 774, 589, 133, 771, 1146, 756, 132, 867, 38, 132, 382, 12, 756, 133, 704, 391, 796, 929, 1006, 606, 1042, 1007, 649, 1028, 327, 744, 748, 122, 801, 14, 110, 707, 700, 795, 222, 1007, 791, 235, 16, 1147, 12, 195, 719, 434, 528, 144, 1037, 1007, 535, 12, 163, 1007, 272, 829, 261, 760, 13, 163, 1007, 562, 366, 195, 204, 12, 1007, 1053, 744, 811, 259, 1114, 12, 1130, 970, 305, 921, 12, 550, 680, 1037, 371, 202, 494, 1007, 841, 256, 744, 1007, 791, 1037, 931, 812, 603, 744, 350, 14, 81, 14, 44, 12, 810, 133, 728, 981, 1037, 1139, 749, 13, 483, 12, 195, 606, 1109, 12, 929, 593, 1007, 210, 744, 558, 764, 791, 13, 531, 642, 561, 589, 174, 1071, 339, 1037, 1007, 367, 744, 1020, 443, 1088, 14, 110, 791, 1097, 751, 744, 71, 1, 962, 12, 1, 195, 568, 149, 1142, 547, 828, 606, 13, 606, 856, 12, 749, 568, 778, 12, 133, 988, 744, 717, 12, 133, 302, 744, 1083, 12, 133, 212, 12, 952, 175, 955, 12, 1006, 854, 751, 744, 1007, 285, 601, 397, 1037, 647, 133, 449, 14, 68, 692, 12, 589, 899, 12, 198, 420, 801, 1007, 341, 744, 670, 1133, 1037, 216, 768, 1, 963, 1, 223, 896, 1097, 1036, 744, 231, 768, 1, 986, 1, 13, 175, 1147, 733, 1037, 667, 174, 200, 744, 1007, 987, 14, 1, 69, 1007, 624, 550, 768, 12, 1148, 618, 12, 1, 81, 14, 44, 871, 1130, 776, 815, 14, 1, 110, 624, 257, 751, 12, 1, 896, 309, 561, 13, 1, 257, 1007, 757, 373, 312, 12, 223, 550, 347, 606, 14, 1, 1, 35, 606, 17, 1, 62, 1097, 136, 1037, 469, 1072, 1020, 291, 1111, 62, 555, 133, 472, 175, 875, 70, 566, 749, 1007, 1026, 14, 23, 550, 949, 1011, 12, 568, 539, 589, 1007, 800, 744, 568, 1084, 292, 12, 1007, 1016, 253, 1102, 744, 533, 827, 209, 494, 568, 1116, 476, 12, 568, 633, 976, 276, 498, 259, 133, 926, 1006, 648, 1007, 1035, 744, 133, 885, 711, 12, 62, 453, 1037, 1110, 133, 339, 550, 531, 1007, 872, 830, 195, 568, 792, 13, 1007, 830, 744, 666, 289, 1005, 550, 1097, 14, 60, 1124, 510, 198, 565, 345, 12, 257, 568, 434, 1050, 781, 558, 1037, 1007, 804, 14, 1, 80, 14, 97, 1095, 1037, 882, 606, 12, 1, 896, 228, 12, 195, 587, 424, 561, 14, 56, 907, 568, 902, 12, 947, 927, 14, 1, 88, 12, 97, 486, 685, 760, 661, 159, 12, 1, 550, 871, 650, 16, 1010, 12, 780, 568, 188, 1028, 696, 15, 1, 33, 175, 882, 1007, 861, 744, 1007, 578, 14, 1, 56, 904, 606, 1037, 685, 1130, 133, 615, 744, 722, 969, 815, 15, 1007, 215, 12, 1007, 936, 12, 1007, 385, 12, 1007, 1055, 13, 163, 1007, 300, 914, 744, 1007, 695, 375, 394, 14, 21, 1112, 719, 1136, 766, 1007, 426, 1051, 550, 871, 12, 1029, 760, 568, 277, 133, 658, 15, 1, 130, 12, 62, 842, 376, 882, 579, 785, 679, 1037, 659, 1131, 1006, 14, 1, 126, 13, 606, 1097, 612, 1007, 405, 751, 693, 547, 478, 473, 565, 14, 91, 550, 1097, 12, 1028, 606, 163, 175, 589, 938, 744, 606, 163, 13, 195, 550, 531, 226, 1028, 12, 175, 589, 938, 744, 12, 568, 792, 13, 929, 540, 12, 929, 273, 12, 929, 359, 12, 1006, 751, 662, 1037, 322, 760, 15, 1, 25, 368, 1130, 1152, 640, 0, 1, 195, 750, 751, 531, 662, 1037, 876, 15, 1, 25, 368, 1130, 1152, 1139, 0, 1, 28, 12, 1130, 1007, 322, 749, 719, 656, 12, 719, 351, 972, 174, 1069, 275, 14, 1, 114, 605, 719, 764, 621, 12, 1, 550, 871, 12, 632, 685, 600, 133, 330, 797, 866, 198, 1007, 405, 744, 1007, 465, 1089, 14, 68, 1097, 940, 175, 253, 175, 636, 15, 731, 1, 396, 1, 16, 731, 248, 12, 732, 744, 1007, 161, 744, 805, 473, 857, 589, 133, 791, 1104, 13, 137, 163, 12, 731, 635, 909, 744, 418, 549, 226, 1078, 195, 133, 965, 14, 110, 437, 252, 571, 1037, 685, 1007, 139, 456, 744, 71, 245, 1130, 568, 748, 645, 14, 1, 37, 1148, 418, 328, 1130, 767, 179, 707, 17, 1, 62, 197, 12, 947, 666, 136, 473, 133, 1046, 744, 970, 146, 14, 1, 83, 12, 1, 550, 871, 249, 14, 1, 92, 1101, 13, 756, 415, 17, 1, 60, 301, 434, 528, 355, 12, 175, 568, 276, 772, 133, 658, 1065, 1008, 540, 975, 14, 1, 83, 1019, 744, 606, 12, 719, 336, 452, 13, 179, 707, 1005, 587, 63, 729, 1044, 133, 254, 14, 1, 21, 568, 1039, 1038, 685, 589, 133, 463, 1006, 550, 729, 1024, 744, 180, 402, 14, 62, 712, 205, 12, 597, 403, 259, 719, 1069, 360, 16, 175, 195, 62, 1058, 12, 719, 432, 451, 749, 133, 925, 791, 137, 1007, 681, 13, 1007, 753, 740, 246, 1007, 797, 738, 775, 744, 1007, 866, 14, 1, 88, 12, 259, 72, 0, 1, 62, 871, 14, 68, 1097, 133, 920, 744, 133, 378, 13, 174, 748, 1036, 378, 12, 944, 589, 1007, 837, 1065, 133, 1092, 14, 1, 29, 72, 13, 133, 104, 0, 1, 62, 318, 14, 56, 1097, 910, 16, 257, 62, 453, 565, 290, 230, 685, 12, 247, 133, 658, 833, 14, 1, 127, 133, 1136, 0, 75, 1130, 133, 380, 654, 13, 257, 749, 419, 487, 14, 131, 671, 271, 12, 1113, 352, 1148, 505, 606, 17, 1, 56, 178, 924, 15, 1, 81, 14, 104, 501, 606, 1037, 685, 14, 1, 1, 19, 13, 62, 353, 618, 1148, 416, 617, 1007, 106, 14, 56, 1097, 970, 174, 594, 560, 14, 1, 1, 62, 353, 13, 1031, 156, 14, 14, 14, 14, 102, 889, 473, 685, 1037, 767, 565, 1111, 550, 1097, 334, 14, 1, 1, 128, 550, 1097, 334, 17, 131, 17, 1, 62, 718, 547, 643, 133, 658, 1041, 713, 169, 413, 1028, 719, 982, 12, 473, 550, 178, 1130, 133, 344, 629, 15, 1, 130, 13, 897, 174, 206, 913, 12, 1148, 618, 12, 81, 14, 104, 14, 57, 753, 584, 1097, 1037, 547, 565, 377, 259, 133, 447, 769, 13, 160, 12, 803, 104, 0, 102, 1024, 606, 1007, 980, 1103, 744, 819, 568, 527, 13, 744, 475, 606, 749, 133, 825, 824, 14, 21, 198, 1007, 702, 62, 1097, 132, 1007, 132, 447, 769, 14, 1, 1, 19, 12, 803, 104, 13, 195, 1148, 876, 14, 124, 132, 1006, 132, 568, 569, 17, 1, 1, 108, 1097, 568, 569, 14, 102, 232, 589, 565, 12, 512, 589, 565, 13, 756, 1024, 896, 352, 14, 28, 896, 311, 219, 733, 1037, 547, 163, 1007, 383, 1130, 558, 14, 102, 311, 219, 1007, 437, 1006, 12, 749, 1081, 333, 12, 751, 310, 167, 505, 723, 409, 1037, 882, 568, 792, 14, 94, 1133, 0, 103, 612, 133, 488, 529, 473, 757, 489, 14, 104, 605, 1007, 753, 1119, 62, 418, 617, 14, 1, 1, 131, 418, 617, 17, 28, 1148, 612, 871, 13, 1, 44, 531, 133, 325, 926, 589, 568, 434, 14, 1, 88, 12, 62, 617, 565, 12, 175, 550, 617, 685, 13, 753, 606, 543, 156, 550, 1097, 334, 14, 1, 62, 387, 719, 1091, 597, 14, 1, 128, 896, 889, 473, 1148, 17, 1, 1, 130, 13, 835, 595, 1037, 1007, 602, 14, 102, 1095, 565, 1087, 13, 175, 259, 685, 0, 1, 56, 630, 158, 12, 175, 1027, 209, 568, 553, 1037, 664, 1072, 198, 1007, 920, 744, 1007, 378, 14, 1, 112, 1109, 333, 1111, 62, 311, 664, 198, 1006, 1017, 13, 311, 435, 606, 14, 28, 62, 474, 720, 1037, 828, 606, 559, 16, 175, 736, 607, 323, 685, 13, 323, 685, 14, 109, 1007, 844, 1121, 62, 376, 328, 179, 707, 12, 719, 336, 97, 16, 756, 840, 104, 566, 605, 1007, 844, 14, 1, 41, 1007, 459, 1032, 719, 585, 324, 136, 719, 298, 1058, 600, 133, 890, 346, 1037, 1068, 565, 235, 14, 1, 62, 1129, 1149, 998, 685, 579, 606, 543, 12, 1, 62, 871, 14, 56, 949, 666, 1072, 198, 1007, 920, 12, 175, 1062, 236, 568, 458, 133, 281, 550, 531, 480, 1037, 649, 14, 107, 550, 1058, 1045, 685, 14, 1, 63, 840, 651, 1037, 998, 1148, 13, 223, 65, 167, 985, 1148, 744, 660, 719, 1139, 14, 1, 62, 676, 133, 344, 504, 12, 1114, 550, 725, 1130, 133, 519, 906, 14, 1, 88, 12, 62, 353, 266, 133, 957, 1111, 62, 232, 589, 720, 13, 175, 736, 607, 174, 148, 1030, 236, 1077, 0, 1, 56, 630, 923, 12, 1131, 239, 12, 175, 827, 751, 744, 1007, 337, 190, 484, 14, 1, 112, 15, 677, 1153, 296, 13, 175, 559, 187, 1007, 282, 1148, 651, 14, 1, 56, 796, 1009, 198, 719, 400, 175, 307, 1037, 1093, 1072, 175, 379, 1007, 866, 12, 951, 736, 175, 1010, 233, 1007, 791, 14, 1, 61, 606, 543, 17, 62, 262, 998, 1148, 589, 462, 698, 13, 175, 606, 353, 992, 713, 663, 1037, 542, 14, 14, 14, 14, 62, 262, 853, 736, 579, 983, 175, 799, 62, 1097, 1111, 62, 520, 81, 14, 105, 734, 14, 87, 315, 12, 337, 379, 12, 62, 531, 167, 132, 453, 132, 1011, 1097, 731, 751, 651, 565, 13, 753, 62, 531, 516, 1130, 1007, 958, 12, 393, 1007, 1079, 798, 136, 565, 12, 1031, 62, 534, 520, 1037, 1019, 550, 1097, 133, 440, 12, 751, 744, 1007, 615, 1006, 187, 639, 230, 14, 29, 72, 12, 175, 550, 132, 1097, 132, 639, 230, 13, 223, 550, 531, 295, 1037, 946, 0, 110, 861, 744, 1077, 531, 1037, 643, 759, 216, 989, 166, 756, 514, 1065, 12, 257, 550, 1097, 564, 137, 1007, 326, 13, 749, 419, 487, 12, 195, 1148, 876, 14, 1, 126, 12, 62, 1108, 745, 1037, 1007, 578, 589, 719, 708, 398, 705, 13, 840, 712, 12, 74, 479, 685, 12, 198, 1007, 783, 744, 803, 105, 267, 744, 440, 231, 320, 259, 1007, 513, 744, 719, 770, 565, 0, 87, 315, 62, 686, 1037, 372, 1007, 791, 473, 735, 13, 62, 1038, 81, 14, 104, 929, 1111, 896, 228, 1037, 942, 933, 136, 558, 807, 14, 62, 853, 506, 745, 133, 820, 790, 136, 1007, 572, 231, 132, 696, 132, 13, 747, 12, 62, 1097, 816, 12, 719, 336, 97, 0, 62, 1097, 805, 1037, 720, 651, 751, 744, 719, 764, 919, 14, 1, 111, 62, 1097, 993, 1072, 175, 639, 165, 1130, 565, 14, 62, 531, 889, 163, 719, 1049, 589, 152, 12, 175, 62, 531, 753, 1037, 891, 1072, 1007, 391, 175, 505, 1037, 1139, 14, 56, 531, 226, 334, 753, 1060, 577, 12, 175, 550, 354, 971, 12, 744, 556, 365, 12, 929, 1006, 1011, 531, 226, 731, 809, 1139, 744, 348, 13, 568, 435, 1097, 288, 175, 1070, 14, 62, 531, 692, 565, 750, 756, 1061, 12, 1145, 227, 12, 175, 1024, 565, 596, 175, 357, 14, 85, 62, 875, 1006, 550, 1097, 978, 14, 1, 62, 1097, 509, 198, 459, 12, 1130, 133, 691, 153, 873, 15, 509, 1037, 547, 719, 538, 749, 970, 133, 7, 14, 2, 111, 568, 956, 646, 228, 1037, 154, 685, 831, 13, 195, 62, 240, 1007, 553, 589, 62, 453, 195, 587, 550, 1109, 1100, 685, 372, 606, 14, 110, 887, 1097, 470, 259, 1007, 1024, 15, 587, 550, 132, 1109, 132, 1100, 685, 12, 1110, 1142, 550, 876, 1037, 719, 1103, 744, 1140, 17, 82, 960, 228, 1037, 514, 133, 658, 1126, 13, 62, 453, 726, 175, 1064, 14, 1, 90, 12, 1111, 62, 665, 1072, 12, 62, 883, 1037, 882, 133, 926, 230, 568, 290, 524, 220, 13, 195, 587, 550, 531, 1007, 881, 12, 175, 1109, 173, 566, 259, 570, 606, 209, 494, 685, 14, 108, 421, 685, 947, 707, 14, 110, 881, 17, 129, 12, 62, 531, 133, 881, 1141, 1059, 744, 568, 0, 62, 331, 198, 1007, 263, 497, 12, 175, 1054, 931, 744, 719, 244, 1053, 14, 28, 1014, 439, 685, 12, 1014, 321, 14, 62, 875, 1006, 550, 1098, 1100, 1007, 905, 238, 13, 62, 311, 370, 568, 202, 16, 550, 612, 614, 568, 434, 749, 1007, 544, 779, 236, 14, 115, 1109, 1007, 752, 62, 531, 167, 898, 12, 756, 316, 1072, 1130, 931, 675, 767, 14, 21, 579, 550, 875, 1028, 719, 644, 0, 1, 62, 665, 1072, 158, 12, 175, 268, 908, 744, 1006, 920, 744, 1007, 378, 541, 749, 1007, 1092, 723, 568, 225, 14, 60, 1124, 1038, 685, 157, 606, 1097, 1007, 624, 1017, 550, 531, 377, 13, 612, 133, 734, 993, 1130, 133, 894, 538, 12, 1111, 550, 1097, 379, 589, 36, 846, 494, 133, 813, 556, 201, 14, 73, 133, 734, 0, 28, 606, 999, 568, 1119, 569, 14, 112, 187, 1145, 744, 784, 880, 788, 589, 420, 653, 14, 18, 678, 1118, 531, 990, 1130, 1007, 326, 310, 729, 547, 634, 1006, 694, 1073, 959, 14, 14, 14, 14, 1, 62, 1058, 209, 1037, 719, 1139, 12, 175, 1108, 749, 529, 175, 714, 16, 1010, 62, 665, 198, 1007, 378, 158, 14, 62, 875, 1006, 12, 1111, 104, 620, 589, 1007, 459, 959, 12, 550, 617, 612, 1110, 1007, 405, 1142, 216, 14, 56, 531, 806, 568, 967, 12, 140, 606, 12, 847, 606, 14, 128, 531, 62, 377, 1006, 1130, 179, 744, 719, 1018, 17, 113, 532, 226, 241, 744, 685, 13, 62, 531, 612, 150, 1009, 14, 14, 14, 14, 1, 54, 606, 12, 97, 12, 1130, 1006, 435, 1100, 685, 62, 311, 372, 176, 959, 14, 110, 797, 1057, 1097, 12, 62, 353, 618, 1113, 1037, 828, 606, 13, 132, 62, 531, 729, 619, 132, 14, 91, 12, 1130, 719, 919, 175, 719, 824, 12, 133, 905, 939, 744, 294, 316, 1072, 1007, 437, 13, 62, 612, 1027, 767, 600, 1008, 436, 14, 14, 14, 14, 126, 12, 767, 1097, 1007, 751, 688, 1022, 334, 434, 310, 882, 1028, 13, 882, 953, 1037, 1007, 1043, 487, 1067, 14, 37, 1148, 618, 579, 12, 589, 994, 133, 477, 623, 12, 416, 467, 12, 751, 878, 534, 1007, 1032, 733, 1110, 751, 1096, 1037, 257, 1110, 751, 262, 17, 126, 13, 1006, 1097, 1007, 1103, 62, 768, 16, 175, 195, 550, 631, 1011, 175, 1099, 685, 12, 1007, 1017, 1014, 260, 719, 8, 293, 651, 133, 578, 744, 265, 14, 56, 353, 928, 12, 1148, 1068, 12, 803, 104, 13, 550, 612, 631, 1011, 834, 1100, 12, 175, 749, 568, 656, 12, 1028, 1007, 523, 220, 12, 62, 883, 1037, 554, 1007, 832, 15, 3, 1148, 979, 1148, 618, 1113, 1150, 297, 760, 17, 2, 1, 66, 62, 310, 547, 768, 1006, 435, 12, 1130, 1006, 832, 749, 606, 12, 62, 900, 547, 377, 133, 525, 1017, 14, 110, 730, 526, 1017, 1097, 1037, 882, 1006, 62, 311, 13, 175, 1006, 521, 1097, 508, 685, 14, 28, 12, 747, 12, 198, 1006, 697, 12, 97, 12, 1097, 1011, 180, 749, 389, 62, 1143, 547, 508, 1037, 547, 104, 162, 227, 685, 12, 175, 1037, 554, 565, 876, 15, 4, 733, 1041, 625, 13, 64, 903, 1148, 580, 17, 1, 68, 132, 1097, 132, 1041, 625, 13, 606, 1142, 547, 226, 12, 416, 587, 551, 226, 162, 14, 62, 765, 1072, 719, 1049, 12, 175, 1108, 379, 175, 1038, 81, 14, 104, 14, 87, 315, 62, 353, 998, 558, 132, 1006, 132, 13, 606, 1142, 547, 226, 48, 1037, 558, 14, 62, 915, 871, 62, 311, 767, 565, 12, 1006, 62, 1097, 1041, 712, 14, 102, 840, 652, 1007, 584, 13, 897, 929, 865, 0, 68, 1097, 1006, 1006, 676, 558, 507, 685, 1007, 378, 14, 28, 896, 1097, 1004, 1075, 198, 733, 506, 1007, 804, 13, 896, 352, 929, 1094, 565, 6, 259, 931, 751, 905, 0, 24, 459, 62, 1097, 155, 896, 1143, 643, 685, 745, 13, 175, 198, 719, 1132, 405, 62, 974, 49, 14, 130, 12, 606, 1097, 62, 1118, 945, 49, 15, 62, 1038, 81, 14, 104, 550, 1097, 1007, 5, 678, 12, 175, 896, 1038, 932, 402, 12, 175, 929, 606, 520, 1037, 216, 1056, 14, 14, 14, 14, 21, 550, 768, 104, 1131, 1127, 16, 175, 896, 581, 1007, 791, 171, 558, 583, 1018, 14, 14, 14, 14, 1, 56, 468, 566, 379, 589, 1007, 189, 723, 696, 12, 620, 209, 568, 553, 12, 175, 287, 568, 191, 233, 606, 12, 665, 1072, 198, 1007, 791, 137, 1007, 278, 14, 1, 62, 651, 1037, 446, 1006, 104, 566, 1142, 547, 508, 606, 1037, 685, 12, 587, 551, 226, 135, 1037, 876, 1110, 550, 1024, 1006, 332, 14, 1, 21, 12, 589, 177, 1037, 133, 832, 62, 828, 536, 13, 1, 26, 158, 17, 1, 550, 464, 760, 14, 1, 128, 1007, 751, 1017, 1006, 250, 685, 181, 723, 565, 605, 1006, 62, 617, 409, 1037, 637, 745, 17, 1, 56, 949, 1072, 175, 620, 568, 538, 749, 719, 901, 1130, 133, 629, 14, 1, 91, 1007, 602, 744, 606, 605, 1006, 62, 132, 168, 132, 947, 770, 13, 916, 50, 374, 606, 473, 685, 0, 110, 106, 943, 165, 12, 175, 542, 750, 13, 257, 1012, 731, 430, 758, 615, 744, 192, 14, 1] \n",
            "\n",
            "I HAD always thought Jack Gisburn rather a cheap genius -- though a good fellow enough -- so it was no great surprise to me to hear that, in the height of his glory, he had dropped his painting, married a rich widow, and established himself in a villa on the Riviera.( Though I rather thought it would have been Rome or Florence.)\" The height of his glory\" -- that was what the women called it. I can hear Mrs. Gideon Thwing -- his last Chicago sitter -- deploring his unaccountable abdication.\" Of course it's going to send the value of my picture'way up ; but I don't think of that, Mr. Rickham -- the loss to Arrt is all I think of.\" The word, on Mrs. Thwing's lips, multiplied its _ rs _ as though they were reflected in an endless vista of mirrors. And it was not only the Mrs. Thwings who mourned. Had not the exquisite Hermia Croft, at the last Grafton Gallery show, stopped me before Gisburn's\" Moon-dancers\" to say, with tears in her eyes :\" We shall not look upon its like again\"? Well! -- even through the prism of Hermia's tears I felt able to face the fact with equanimity. Poor Jack Gisburn! The women had made him -- it was fitting that they should mourn him. Among his own sex fewer regrets were heard, and in his own trade hardly a murmur. Professional jealousy? Perhaps. If it were, the honour of the craft was vindicated by little Claude Nutley, who, in all good faith, brought out in the Burlington a very handsome\" obituary\" on Jack -- one of those showy articles stocked with random technicalities that I have heard( I won't say by whom) compared to Gisburn's painting. And so -- his resolve being apparently irrevocable -- the discussion gradually died out, and, as Mrs. Thwing had predicted, the price of\" Gisburns\" went up. It was not till three years later that, in the course of a few weeks' idling on the Riviera, it suddenly occurred to me to wonder why Gisburn had given up his painting. On reflection, it really was a tempting problem. To accuse his wife would have been too easy -- his fair sitters had been denied the solace of saying that Mrs. Gisburn had\" dragged him down.\" For Mrs. Gisburn -- as such -- had not existed till nearly a year after Jack's resolve had been taken. It might be that he had married her -- since he liked his ease -- because he didn't want to go on painting ; but it would have been hard to prove that he had given up his painting because he had married her. Of course, if she had not dragged him down, she had equally, as Miss Croft contended, failed to\" lift him up\" -- she had not led him back to the easel. To put the brush into his hand again -- what a vocation for a wife! But Mrs. Gisburn appeared to have disdained it -- and I felt it might be interesting to find out why. The desultory life of the Riviera lends itself to such purely academic speculations ; and having, on my way to Monte Carlo, caught a glimpse of Jack's balustraded terraces between the pines, I had myself borne thither the next day. I found the couple at tea beneath their palm-trees ; and Mrs. Gisburn's welcome was so genial that, in the ensuing weeks, I claimed it frequently. It was not that my hostess was\" interesting\" : on that point I could have given Miss Croft the fullest reassurance. It was just because she was _ not _ interesting -- if I may be pardoned the bull -- that I found her so. For Jack, all his life, had been surrounded by interesting women : they had fostered his art, it had been reared in the hot-house of their adulation. And it was therefore instructive to note what effect the\" deadening atmosphere of mediocrity\"( I quote Miss Croft) was having on him. I have mentioned that Mrs. Gisburn was rich ; and it was immediately perceptible that her husband was extracting from this circumstance a delicate but substantial satisfaction. It is, as a rule, the people who scorn money who get most out of it ; and Jack's elegant disdain of his wife's big balance enabled him, with an appearance of perfect good-breeding, to transmute it into objects of art and luxury. To the latter, I must add, he remained relatively indifferent ; but he was buying Renaissance bronzes and eighteenth-century pictures with a discrimination that bespoke the amplest resources.\" Money's only excuse is to put beauty into circulation,\" was one of the axioms he laid down across the Sevres and silver of an exquisitely appointed luncheon-table, when, on a later day, I had again run over from Monte Carlo ; and Mrs. Gisburn, beaming on him, added for my enlightenment :\" Jack is so morbidly sensitive to every form of beauty.\" Poor Jack! It had always been his fate to have women say such things of him : the fact should be set down in extenuation. What struck me now was that, for the first time, he resented the tone. I had seen him, so often, basking under similar tributes -- was it the conjugal note that robbed them of their savour? No -- for, oddly enough, it became apparent that he was fond of Mrs. Gisburn -- fond enough not to see her absurdity. It was his own absurdity he seemed to be wincing under -- his own attitude as an object for garlands and incense.\" My dear, since I've chucked painting people don't say that stuff about me -- they say it about Victor Grindle,\" was his only protest, as he rose from the table and strolled out onto the sunlit terrace. I glanced after him, struck by his last word. Victor Grindle was, in fact, becoming the man of the moment -- as Jack himself, one might put it, had been the man of the hour. The younger artist was said to have formed himself at my friend's feet, and I wondered if a tinge of jealousy underlay the latter's mysterious abdication. But no -- for it was not till after that event that the _ rose Dubarry _ drawing-rooms had begun to display their\" Grindles.\" I turned to Mrs. Gisburn, who had lingered to give a lump of sugar to her spaniel in the dining-room.\" Why _ has _ he chucked painting?\" I asked abruptly. She raised her eyebrows with a hint of good-humoured surprise.\" Oh, he doesn't _ have _ to now, you know ; and I want him to enjoy himself,\" she said quite simply. I looked about the spacious white-panelled room, with its _ famille-verte _ vases repeating the tones of the pale damask curtains, and its eighteenth-century pastels in delicate faded frames.\" Has he chucked his pictures too? I haven't seen a single one in the house.\" A slight shade of constraint crossed Mrs. Gisburn's open countenance.\" It's his ridiculous modesty, you know. He says they're not fit to have about ; he's sent them all away except one -- my portrait -- and that I have to keep upstairs.\" His ridiculous modesty -- Jack's modesty about his pictures? My curiosity was growing like the bean-stalk. I said persuasively to my hostess :\" I must really see your portrait, you know.\" She glanced out almost timorously at the terrace where her husband, lounging in a hooded chair, had lit a cigar and drawn the Russian deerhound's head between his knees.\" Well, come while he's not looking,\" she said, with a laugh that tried to hide her nervousness ; and I followed her between the marble Emperors of the hall, and up the wide stairs with terra-cotta nymphs poised among flowers at each landing. In the dimmest corner of her boudoir, amid a profusion of delicate and distinguished objects, hung one of the familiar oval canvases, in the inevitable garlanded frame. The mere outline of the frame called up all Gisburn's past! Mrs. Gisburn drew back the window-curtains, moved aside a _ jardiniere _ full of pink azaleas, pushed an arm-chair away, and said :\" If you stand here you can just manage to see it. I had it over the mantel-piece, but he wouldn't let it stay.\" Yes -- I could just manage to see it -- the first portrait of Jack's I had ever had to strain my eyes over! Usually they had the place of honour -- say the central panel in a pale yellow or _ rose Dubarry _ drawing-room, or a monumental easel placed so that it took the light through curtains of old Venetian point. The more modest place became the picture better ; yet, as my eyes grew accustomed to the half-light, all the characteristic qualities came out -- all the hesitations disguised as audacities, the tricks of prestidigitation by which, with such consummate skill, he managed to divert attention from the real business of the picture to some pretty irrelevance of detail. Mrs. Gisburn, presenting a neutral surface to work on -- forming, as it were, so inevitably the background of her own picture -- had lent herself in an unusual degree to the display of this false virtuosity. The picture was one of Jack's\" strongest,\" as his admirers would have put it -- it represented, on his part, a swelling of muscles, a congesting of veins, a balancing, straddling and straining, that reminded one of the circus-clown's ironic efforts to lift a feather. It met, in short, at every point the demand of lovely woman to be painted\" strongly\" because she was tired of being painted\" sweetly\" -- and yet not to lose an atom of the sweetness.\" It's the last he painted, you know,\" Mrs. Gisburn said with pardonable pride.\" The last but one,\" she corrected herself --\" but the other doesn't count, because he destroyed it.\"\" Destroyed it?\" I was about to follow up this clue when I heard a footstep and saw Jack himself on the threshold. As he stood there, his hands in the pockets of his velveteen coat, the thin brown waves of hair pushed back from his white forehead, his lean sunburnt cheeks furrowed by a smile that lifted the tips of a self-confident moustache, I felt to what a degree he had the same quality as his pictures -- the quality of looking cleverer than he was. His wife glanced at him deprecatingly, but his eyes travelled past her to the portrait.\" Mr. Rickham wanted to see it,\" she began, as if excusing herself. He shrugged his shoulders, still smiling.\" Oh, Rickham found me out long ago,\" he said lightly ; then, passing his arm through mine :\" Come and see the rest of the house.\" He showed it to me with a kind of naive suburban pride : the bath-rooms, the speaking-tubes, the dress-closets, the trouser-presses -- all the complex simplifications of the millionaire's domestic economy. And whenever my wonder paid the expected tribute he said, throwing out his chest a little :\" Yes, I really don't see how people manage to live without that.\" Well -- it was just the end one might have foreseen for him. Only he was, through it all and in spite of it all -- as he had been through, and in spite of, his pictures -- so handsome, so charming, so disarming, that one longed to cry out :\" Be dissatisfied with your leisure!\" as once one had longed to say :\" Be dissatisfied with your work!\" But, with the cry on my lips, my diagnosis suffered an unexpected check.\" This is my own lair,\" he said, leading me into a dark plain room at the end of the florid vista. It was square and brown and leathery : no\" effects\" ; no bric-a-brac, none of the air of posing for reproduction in a picture weekly -- above all, no least sign of ever having been used as a studio. The fact brought home to me the absolute finality of Jack's break with his old life.\" Don't you ever dabble with paint any more?\" I asked, still looking about for a trace of such activity.\" Never,\" he said briefly.\" Or water-colour -- or etching?\" His confident eyes grew dim, and his cheeks paled a little under their handsome sunburn.\" Never think of it, my dear fellow -- any more than if I'd never touched a brush.\" And his tone told me in a flash that he never thought of anything else. I moved away, instinctively embarrassed by my unexpected discovery ; and as I turned, my eye fell on a small picture above the mantel-piece -- the only object breaking the plain oak panelling of the room.\" Oh, by Jove!\" I said. It was a sketch of a donkey -- an old tired donkey, standing in the rain under a wall.\" By Jove -- a Stroud!\" I cried. He was silent ; but I felt him close behind me, breathing a little quickly.\" What a wonder! Made with a dozen lines -- but on everlasting foundations. You lucky chap, where did you get it?\" He answered slowly :\" Mrs. Stroud gave it to me.\"\" Ah -- I didn't know you even knew the Strouds. He was such an inflexible hermit.\"\" I didn't -- till after.... She sent for me to paint him when he was dead.\"\" When he was dead? You?\" I must have let a little too much amazement escape through my surprise, for he answered with a deprecating laugh :\" Yes -- she's an awful simpleton, you know, Mrs. Stroud. Her only idea was to have him done by a fashionable painter -- ah, poor Stroud! She thought it the surest way of proclaiming his greatness -- of forcing it on a purblind public. And at the moment I was _ the _ fashionable painter.\"\" Ah, poor Stroud -- as you say. Was _ that _ his history?\"\" That was his history. She believed in him, gloried in him -- or thought she did. But she couldn't bear not to have all the drawing-rooms with her. She couldn't bear the fact that, on varnishing days, one could always get near enough to see his pictures. Poor woman! She's just a fragment groping for other fragments. Stroud is the only whole I ever knew.\"\" You ever knew? But you just said --\" Gisburn had a curious smile in his eyes.\" Oh, I knew him, and he knew me -- only it happened after he was dead.\" I dropped my voice instinctively.\" When she sent for you?\"\" Yes -- quite insensible to the irony. She wanted him vindicated -- and by me!\" He laughed again, and threw back his head to look up at the sketch of the donkey.\" There were days when I couldn't look at that thing -- couldn't face it. But I forced myself to put it here ; and now it's cured me -- cured me. That's the reason why I don't dabble any more, my dear Rickham ; or rather Stroud himself is the reason.\" For the first time my idle curiosity about my companion turned into a serious desire to understand him better.\" I wish you'd tell me how it happened,\" I said. He stood looking up at the sketch, and twirling between his fingers a cigarette he had forgotten to light. Suddenly he turned toward me.\" I'd rather like to tell you -- because I've always suspected you of loathing my work.\" I made a deprecating gesture, which he negatived with a good-humoured shrug.\" Oh, I didn't care a straw when I believed in myself -- and now it's an added tie between us!\" He laughed slightly, without bitterness, and pushed one of the deep arm-chairs forward.\" There : make yourself comfortable -- and here are the cigars you like.\" He placed them at my elbow and continued to wander up and down the room, stopping now and then beneath the picture.\" How it happened? I can tell you in five minutes -- and it didn't take much longer to happen.... I can remember now how surprised and pleased I was when I got Mrs. Stroud's note. Of course, deep down, I had always _ felt _ there was no one like him -- only I had gone with the stream, echoed the usual platitudes about him, till I half got to think he was a failure, one of the kind that are left behind. By Jove, and he _ was _ left behind -- because he had come to stay! The rest of us had to let ourselves be swept along or go under, but he was high above the current -- on everlasting foundations, as you say.\" Well, I went off to the house in my most egregious mood -- rather moved, Lord forgive me, at the pathos of poor Stroud's career of failure being crowned by the glory of my painting him! Of course I meant to do the picture for nothing -- I told Mrs. Stroud so when she began to stammer something about her poverty. I remember getting off a prodigious phrase about the honour being _ mine _ -- oh, I was princely, my dear Rickham! I was posing to myself like one of my own sitters.\" Then I was taken up and left alone with him. I had sent all my traps in advance, and I had only to set up the easel and get to work. He had been dead only twenty-four hours, and he died suddenly, of heart disease, so that there had been no preliminary work of destruction -- his face was clear and untouched. I had met him once or twice, years before, and thought him insignificant and dingy. Now I saw that he was superb.\" I was glad at first, with a merely aesthetic satisfaction : glad to have my hand on such a'subject.' Then his strange life-likeness began to affect me queerly -- as I blocked the head in I felt as if he were watching me do it. The sensation was followed by the thought : if he _ were _ watching me, what would he say to my way of working? My strokes began to go a little wild -- I felt nervous and uncertain.\" Once, when I looked up, I seemed to see a smile behind his close grayish beard -- as if he had the secret, and were amusing himself by holding it back from me. That exasperated me still more. The secret? Why, I had a secret worth twenty of his! I dashed at the canvas furiously, and tried some of my bravura tricks. But they failed me, they crumbled. I saw that he wasn't watching the showy bits -- I couldn't distract his attention ; he just kept his eyes on the hard passages between. Those were the ones I had always shirked, or covered up with some lying paint. And how he saw through my lies!\" I looked up again, and caught sight of that sketch of the donkey hanging on the wall near his bed. His wife told me afterward it was the last thing he had done -- just a note taken with a shaking hand, when he was down in Devonshire recovering from a previous heart attack. Just a note! But it tells his whole history. There are years of patient scornful persistence in every line. A man who had swum with the current could never have learned that mighty up-stream stroke....\" I turned back to my work, and went on groping and muddling ; then I looked at the donkey again. I saw that, when Stroud laid in the first stroke, he knew just what the end would be. He had possessed his subject, absorbed it, recreated it. When had I done that with any of my things? They hadn't been born of me -- I had just adopted them....\" Hang it, Rickham, with that face watching me I couldn't do another stroke. The plain truth was, I didn't know where to put it -- _ I had never known _. Only, with my sitters and my public, a showy splash of colour covered up the fact -- I just threw paint into their faces.... Well, paint was the one medium those dead eyes could see through -- see straight to the tottering foundations underneath. Don't you know how, in talking a foreign language, even fluently, one says half the time not what one wants to but what one can? Well -- that was the way I painted ; and as he lay there and watched me, the thing they called my'technique' collapsed like a house of cards. He didn't sneer, you understand, poor Stroud -- he just lay there quietly watching, and on his lips, through the gray beard, I seemed to hear the question :'Are you sure you know where you're coming out?'\" If I could have painted that face, with that question on it, I should have done a great thing. The next greatest thing was to see that I couldn't -- and that grace was given me. But, oh, at that minute, Rickham, was there anything on earth I wouldn't have given to have Stroud alive before me, and to hear him say :'It's not too late -- I'll show you how'?\" It _ was _ too late -- it would have been, even if he'd been alive. I packed up my traps, and went down and told Mrs. Stroud. Of course I didn't tell her _ that _ -- it would have been Greek to her. I simply said I couldn't paint him, that I was too moved. She rather liked the idea -- she's so romantic! It was that that made her give me the donkey. But she was terribly upset at not getting the portrait -- she did so want him'done' by some one showy! At first I was afraid she wouldn't let me off -- and at my wits' end I suggested Grindle. Yes, it was I who started Grindle : I told Mrs. Stroud he was the'coming' man, and she told somebody else, and so it got to be true.... And he painted Stroud without wincing ; and she hung the picture among her husband's things....\" He flung himself down in the arm-chair near mine, laid back his head, and clasping his arms beneath it, looked up at the picture above the chimney-piece.\" I like to fancy that Stroud himself would have given it to me, if he'd been able to say what he thought that day.\" And, in answer to a question I put half-mechanically --\" Begin again?\" he flashed out.\" When the one thing that brings me anywhere near him is that I knew enough to leave off?\" He stood up and laid his hand on my shoulder with a laugh.\" Only the irony of it is that I _ am _ still painting -- since Grindle's doing it for me! The Strouds stand alone, and happen once -- but there's no exterminating our kind of art.\"\n",
            "[62, 52, 167, 1024, 70, 44, 840, 133, 274, 503, 13, 1023, 133, 517, 452, 409, 13, 929, 606, 1097, 731, 525, 982, 1037, 685, 1037, 554, 1006, 12, 589, 1007, 557, 744, 568, 513, 12, 550, 531, 387, 568, 770, 12, 683, 133, 862, 1123, 12, 175, 414, 566, 589, 133, 1086, 749, 1007, 98, 14, 10, 116, 62, 840, 1024, 606, 1142, 547, 226, 99, 756, 40, 14, 11, 1, 110, 557, 744, 568, 513, 1, 13, 1006, 1097, 1110, 1007, 1134, 260, 606, 14, 62, 262, 554, 81, 14, 43, 117, 13, 568, 624, 31, 918, 13, 343, 568, 1063, 134, 14, 1, 87, 315, 606, 2, 1155, 515, 1037, 886, 1007, 1080, 744, 719, 791, 2, 1103, 1072, 16, 257, 62, 1155, 2, 1155, 1019, 744, 1006, 12, 80, 14, 97, 13, 1007, 668, 1037, 22, 605, 163, 62, 1019, 744, 14, 1, 110, 1138, 12, 749, 81, 14, 117, 2, 1155, 656, 12, 715, 608, 132, 868, 132, 195, 1023, 1014, 1109, 848, 589, 174, 406, 1089, 744, 699, 14, 21, 606, 1097, 733, 753, 1007, 81, 14, 119, 1118, 710, 14, 53, 733, 1007, 427, 58, 34, 12, 198, 1007, 624, 47, 42, 903, 12, 950, 685, 227, 44, 2, 1155, 1, 79, 1, 1037, 876, 12, 1130, 996, 589, 558, 434, 15, 1, 125, 895, 733, 664, 1074, 608, 651, 158, 1, 17, 126, 0, 13, 416, 1028, 1007, 817, 744, 58, 2, 1155, 996, 62, 453, 135, 1037, 435, 1007, 437, 1130, 412, 14, 94, 70, 44, 0, 110, 1134, 531, 676, 565, 13, 606, 1097, 461, 1006, 1014, 900, 709, 565, 14, 20, 568, 764, 892, 455, 850, 1109, 555, 12, 175, 589, 568, 764, 1047, 545, 133, 716, 14, 95, 611, 17, 93, 14, 66, 606, 1109, 12, 1007, 572, 744, 1007, 317, 1097, 1087, 259, 658, 32, 86, 12, 1118, 12, 589, 163, 517, 442, 12, 252, 760, 589, 1007, 27, 133, 1085, 540, 1, 739, 1, 749, 70, 13, 751, 744, 1022, 905, 193, 948, 1130, 839, 997, 1006, 62, 547, 555, 10, 62, 1155, 2, 1155, 876, 259, 1120, 11, 299, 1037, 44, 2, 1155, 770, 14, 21, 929, 13, 568, 859, 231, 183, 604, 13, 1007, 362, 522, 354, 760, 12, 175, 12, 195, 81, 14, 117, 531, 808, 12, 1007, 814, 744, 1, 46, 1, 1108, 1072, 14, 68, 1097, 733, 1031, 1025, 1145, 626, 1006, 12, 589, 1007, 315, 744, 133, 454, 1105, 2, 586, 749, 1007, 98, 12, 606, 971, 742, 1037, 685, 1037, 1136, 1121, 44, 531, 508, 1072, 568, 770, 14, 89, 849, 12, 606, 842, 1097, 133, 1000, 818, 14, 120, 143, 568, 1124, 1142, 547, 226, 1041, 392, 13, 568, 441, 919, 531, 226, 342, 1007, 930, 744, 877, 1006, 81, 14, 44, 531, 1, 381, 565, 379, 14, 1, 41, 81, 14, 44, 13, 195, 970, 13, 531, 733, 425, 1031, 724, 133, 1144, 156, 70, 2, 1155, 859, 531, 226, 993, 14, 68, 693, 216, 1006, 550, 531, 683, 558, 13, 916, 550, 652, 568, 390, 13, 223, 550, 1155, 2, 1155, 1094, 1037, 514, 749, 770, 16, 257, 606, 1142, 547, 226, 544, 1037, 823, 1006, 550, 531, 508, 1072, 568, 770, 223, 550, 531, 683, 558, 14, 87, 315, 12, 587, 896, 531, 733, 381, 565, 379, 12, 896, 531, 411, 12, 195, 76, 34, 306, 12, 439, 1037, 1, 647, 565, 1072, 1, 13, 896, 531, 733, 638, 565, 209, 1037, 1007, 391, 14, 120, 828, 1007, 254, 600, 568, 538, 158, 13, 1110, 133, 1090, 473, 133, 1124, 0, 28, 81, 14, 44, 185, 1037, 547, 364, 606, 13, 175, 62, 453, 606, 693, 216, 599, 1037, 457, 760, 1121, 14, 110, 349, 645, 744, 1007, 98, 641, 609, 1037, 970, 826, 142, 937, 16, 175, 549, 12, 749, 719, 1103, 1037, 78, 30, 12, 268, 133, 511, 744, 70, 2, 1155, 213, 1003, 236, 1007, 793, 12, 62, 531, 720, 242, 1021, 1007, 730, 332, 14, 62, 486, 1007, 314, 198, 995, 233, 1008, 773, 16, 175, 81, 14, 44, 2, 1155, 1107, 1097, 929, 502, 1006, 12, 589, 1007, 410, 1105, 12, 62, 286, 606, 492, 14, 68, 1097, 733, 1006, 719, 574, 1097, 1, 599, 1, 15, 749, 1006, 801, 62, 310, 547, 508, 76, 34, 1007, 496, 845, 14, 68, 1097, 612, 223, 896, 1097, 132, 733, 132, 599, 13, 587, 62, 684, 216, 777, 1007, 255, 13, 1006, 62, 486, 558, 929, 14, 41, 70, 12, 163, 568, 645, 12, 531, 226, 984, 259, 599, 1134, 15, 1014, 531, 485, 568, 192, 12, 606, 531, 226, 843, 589, 1007, 575, 744, 1008, 151, 14, 21, 606, 1097, 1013, 598, 1037, 734, 1110, 395, 1007, 1, 335, 199, 744, 687, 1, 10, 62, 836, 76, 34, 11, 1097, 549, 749, 565, 14, 62, 547, 689, 1006, 81, 14, 44, 1097, 862, 16, 175, 606, 1097, 588, 786, 1006, 558, 582, 1097, 431, 494, 1020, 284, 133, 340, 257, 968, 873, 14, 68, 605, 12, 195, 133, 869, 12, 1007, 785, 1118, 879, 703, 1118, 505, 708, 760, 744, 606, 16, 175, 70, 2, 1155, 401, 363, 744, 568, 1124, 2, 1155, 237, 211, 404, 565, 12, 1130, 174, 184, 744, 787, 518, 12, 1037, 1048, 606, 600, 741, 744, 192, 175, 674, 14, 120, 1007, 627, 12, 62, 718, 147, 12, 550, 852, 851, 591, 16, 257, 550, 1097, 258, 96, 251, 175, 399, 792, 1130, 133, 361, 1006, 234, 1007, 172, 860, 14, 1, 1155, 2, 1155, 753, 423, 605, 1037, 828, 221, 600, 283, 12, 1, 1097, 751, 744, 1007, 207, 550, 620, 379, 145, 1007, 101, 175, 911, 744, 174, 428, 186, 673, 12, 1111, 12, 749, 133, 626, 332, 12, 62, 531, 158, 870, 763, 494, 78, 30, 16, 175, 81, 14, 44, 12, 217, 749, 565, 12, 148, 473, 719, 408, 15, 1, 70, 605, 929, 706, 888, 1037, 420, 481, 744, 221, 14, 1, 94, 70, 0, 68, 531, 167, 226, 568, 448, 1037, 547, 1134, 876, 970, 1018, 744, 565, 15, 1007, 437, 900, 216, 891, 379, 589, 429, 14, 127, 964, 685, 736, 1097, 1006, 12, 473, 1007, 459, 1032, 12, 550, 858, 1007, 1039, 14, 62, 531, 884, 565, 12, 929, 746, 12, 214, 1065, 912, 1052, 13, 1097, 606, 1007, 303, 734, 1006, 864, 1009, 744, 1008, 874, 17, 84, 13, 473, 12, 743, 409, 12, 606, 222, 182, 1006, 550, 1097, 471, 744, 81, 14, 44, 13, 471, 409, 733, 1037, 882, 558, 141, 14, 68, 1097, 568, 764, 141, 550, 883, 1037, 216, 1127, 1065, 13, 568, 764, 203, 195, 174, 740, 473, 500, 175, 590, 14, 1, 82, 336, 12, 916, 62, 2, 1155, 279, 770, 785, 1155, 2, 1155, 876, 1006, 966, 136, 685, 13, 1014, 876, 606, 136, 123, 49, 12, 1, 1097, 568, 753, 822, 12, 195, 550, 867, 494, 1007, 991, 175, 961, 760, 754, 1007, 977, 1002, 14, 62, 510, 156, 565, 12, 964, 259, 568, 624, 1138, 14, 123, 49, 1097, 12, 589, 437, 12, 224, 1007, 678, 744, 1007, 702, 13, 195, 70, 566, 12, 751, 693, 828, 606, 12, 531, 226, 1007, 678, 744, 1007, 576, 14, 110, 1151, 194, 1097, 871, 1037, 547, 482, 566, 198, 719, 1155, 2, 1155, 450, 12, 175, 62, 1137, 587, 133, 1034, 744, 611, 1066, 1007, 627, 2, 1155, 721, 134, 14, 28, 731, 13, 473, 606, 1097, 733, 1031, 156, 1006, 417, 1006, 1007, 132, 867, 38, 132, 383, 531, 229, 1037, 367, 1008, 1, 51, 14, 1, 62, 1058, 1037, 81, 14, 44, 12, 1118, 531, 655, 1037, 507, 133, 672, 744, 973, 1037, 558, 935, 589, 1007, 358, 14, 1, 129, 132, 546, 132, 550, 279, 770, 17, 1, 62, 197, 138, 14, 102, 838, 558, 433, 1130, 133, 567, 744, 519, 982, 14, 1, 88, 12, 550, 1155, 2, 1155, 132, 547, 132, 1037, 736, 12, 1148, 618, 16, 175, 62, 1094, 565, 1037, 407, 566, 12, 1, 896, 871, 835, 915, 14, 62, 665, 136, 1007, 934, 1117, 866, 12, 1130, 608, 132, 445, 132, 1082, 855, 1007, 1040, 744, 1007, 771, 329, 327, 12, 175, 608, 399, 782, 589, 340, 438, 491, 14, 1, 55, 550, 279, 568, 792, 1041, 17, 62, 1155, 2, 1155, 884, 133, 917, 751, 589, 1007, 578, 14, 1, 18, 922, 893, 744, 304, 319, 81, 14, 44, 2, 1155, 755, 313, 14, 1, 68, 2, 1155, 568, 863, 701, 12, 1148, 618, 14, 56, 878, 1014, 2, 1155, 733, 460, 1037, 547, 136, 16, 550, 2, 1155, 889, 1009, 163, 205, 422, 751, 13, 719, 804, 13, 175, 1006, 62, 547, 1037, 613, 1076, 14, 1, 60, 863, 701, 13, 70, 2, 1155, 701, 136, 568, 792, 17, 82, 324, 1097, 530, 651, 1007, 218, 14, 62, 871, 789, 1037, 719, 574, 15, 1, 62, 718, 842, 882, 1152, 804, 12, 1148, 618, 14, 1, 102, 510, 760, 164, 1033, 198, 1007, 1002, 1113, 558, 582, 12, 669, 589, 133, 573, 270, 12, 531, 657, 133, 280, 175, 384, 1007, 100, 1155, 2, 1155, 553, 236, 568, 616, 14, 1, 126, 12, 295, 1115, 550, 2, 1155, 733, 666, 12, 1, 896, 871, 12, 1130, 133, 629, 1006, 1054, 1037, 563, 558, 727, 16, 175, 62, 470, 558, 236, 1007, 682, 39, 744, 1007, 537, 12, 175, 1072, 1007, 1122, 941, 1130, 1001, 737, 802, 171, 466, 198, 388, 622, 14, 67, 1007, 356, 308, 744, 558, 243, 12, 170, 133, 821, 744, 340, 175, 369, 741, 12, 581, 751, 744, 1007, 444, 762, 264, 12, 589, 1007, 592, 499, 490, 14, 110, 690, 761, 744, 1007, 490, 260, 1072, 163, 44, 2, 1155, 781, 0, 81, 14, 44, 386, 209, 1007, 1128, 12, 712, 196, 133, 132, 610, 132, 495, 744, 794, 208, 12, 827, 174, 189, 205, 12, 175, 871, 15, 1, 66, 1148, 943, 559, 1148, 262, 612, 679, 1037, 882, 606, 14, 62, 531, 606, 763, 1007, 681, 12, 257, 550, 1155, 2, 1155, 643, 606, 946, 14, 1, 130, 13, 62, 310, 612, 679, 1037, 882, 606, 13, 1007, 459, 804, 744, 70, 2, 1155, 62, 531, 418, 531, 1037, 954, 719, 434, 763, 0, 121, 1014, 531, 1007, 795, 744, 572, 13, 876, 1007, 269, 774, 589, 133, 771, 1146, 756, 132, 867, 38, 132, 382, 12, 756, 133, 704, 391, 796, 929, 1006, 606, 1042, 1007, 649, 1028, 327, 744, 748, 122, 801, 14, 110, 707, 700, 795, 222, 1007, 791, 235, 16, 1147, 12, 195, 719, 434, 528, 144, 1037, 1007, 535, 12, 163, 1007, 272, 829, 261, 760, 13, 163, 1007, 562, 366, 195, 204, 12, 1007, 1053, 744, 811, 259, 1114, 12, 1130, 970, 305, 921, 12, 550, 680, 1037, 371, 202, 494, 1007, 841, 256, 744, 1007, 791, 1037, 931, 812, 603, 744, 350, 14, 81, 14, 44, 12, 810, 133, 728, 981, 1037, 1139, 749, 13, 483, 12, 195, 606, 1109, 12, 929, 593, 1007, 210, 744, 558, 764, 791, 13, 531, 642, 561, 589, 174, 1071, 339, 1037, 1007, 367, 744, 1020, 443, 1088, 14, 110, 791, 1097, 751, 744, 70, 2, 1155, 1, 962, 12, 1, 195, 568, 149, 1142, 547, 828, 606, 13, 606, 856, 12, 749, 568, 778, 12, 133, 988, 744, 717, 12, 133, 302, 744, 1083, 12, 133, 212, 12, 952, 175, 955, 12, 1006, 854, 751, 744, 1007, 1155, 2, 1155, 601, 397, 1037, 647, 133, 449, 14, 68, 692, 12, 589, 899, 12, 198, 420, 801, 1007, 341, 744, 670, 1133, 1037, 216, 768, 1, 963, 1, 223, 896, 1097, 1036, 744, 231, 768, 1, 986, 1, 13, 175, 1147, 733, 1037, 667, 174, 200, 744, 1007, 987, 14, 1, 68, 2, 1155, 1007, 624, 550, 768, 12, 1148, 618, 12, 1, 81, 14, 44, 871, 1130, 776, 815, 14, 1, 110, 624, 257, 751, 12, 1, 896, 309, 561, 13, 1, 257, 1007, 757, 1155, 2, 1155, 312, 12, 223, 550, 347, 606, 14, 1, 1, 35, 606, 17, 1, 62, 1097, 136, 1037, 469, 1072, 1020, 291, 1111, 62, 555, 133, 472, 175, 875, 70, 566, 749, 1007, 1026, 14, 23, 550, 949, 1011, 12, 568, 539, 589, 1007, 800, 744, 568, 1084, 292, 12, 1007, 1016, 253, 1102, 744, 533, 827, 209, 494, 568, 1116, 476, 12, 568, 633, 976, 276, 498, 259, 133, 926, 1006, 648, 1007, 1035, 744, 133, 885, 711, 12, 62, 453, 1037, 1110, 133, 339, 550, 531, 1007, 872, 830, 195, 568, 792, 13, 1007, 830, 744, 666, 289, 1005, 550, 1097, 14, 60, 1124, 510, 198, 565, 345, 12, 257, 568, 434, 1050, 781, 558, 1037, 1007, 804, 14, 1, 80, 14, 97, 1095, 1037, 882, 606, 12, 1, 896, 228, 12, 195, 587, 424, 561, 14, 56, 907, 568, 902, 12, 947, 927, 14, 1, 88, 12, 97, 486, 685, 760, 661, 159, 12, 1, 550, 871, 650, 16, 1010, 12, 780, 568, 188, 1028, 696, 15, 1, 33, 175, 882, 1007, 861, 744, 1007, 578, 14, 1, 56, 904, 606, 1037, 685, 1130, 133, 615, 744, 722, 969, 815, 15, 1007, 215, 12, 1007, 936, 12, 1007, 385, 12, 1007, 1055, 13, 163, 1007, 300, 914, 744, 1007, 1155, 2, 1155, 375, 394, 14, 21, 1112, 719, 1136, 766, 1007, 426, 1051, 550, 871, 12, 1029, 760, 568, 277, 133, 658, 15, 1, 130, 12, 62, 842, 1155, 2, 1155, 882, 579, 785, 679, 1037, 659, 1131, 1006, 14, 1, 126, 13, 606, 1097, 612, 1007, 405, 751, 693, 547, 478, 473, 565, 14, 91, 550, 1097, 12, 1028, 606, 163, 175, 589, 938, 744, 606, 163, 13, 195, 550, 531, 226, 1028, 12, 175, 589, 938, 744, 12, 568, 792, 13, 929, 540, 12, 929, 273, 12, 929, 359, 12, 1006, 751, 662, 1037, 322, 760, 15, 1, 25, 368, 1130, 1152, 640, 0, 1, 195, 750, 751, 531, 662, 1037, 876, 15, 1, 25, 368, 1130, 1152, 1139, 0, 1, 28, 12, 1130, 1007, 322, 749, 719, 656, 12, 719, 351, 972, 174, 1069, 275, 14, 1, 114, 605, 719, 764, 621, 12, 1, 550, 871, 12, 632, 685, 600, 133, 330, 797, 866, 198, 1007, 405, 744, 1007, 465, 1089, 14, 68, 1097, 940, 175, 253, 175, 636, 15, 731, 1, 396, 1, 16, 731, 248, 12, 732, 744, 1007, 161, 744, 805, 473, 857, 589, 133, 791, 1104, 13, 137, 163, 12, 731, 635, 909, 744, 418, 549, 226, 1078, 195, 133, 965, 14, 110, 437, 252, 571, 1037, 685, 1007, 139, 456, 744, 70, 2, 1155, 245, 1130, 568, 748, 645, 14, 1, 1155, 2, 1155, 1148, 418, 328, 1130, 767, 179, 707, 17, 1, 62, 197, 12, 947, 666, 136, 473, 133, 1046, 744, 970, 146, 14, 1, 83, 12, 1, 550, 871, 249, 14, 1, 92, 1101, 13, 756, 415, 17, 1, 60, 301, 434, 528, 355, 12, 175, 568, 276, 772, 133, 658, 1065, 1008, 540, 975, 14, 1, 83, 1019, 744, 606, 12, 719, 336, 452, 13, 179, 707, 1005, 587, 62, 2, 1155, 729, 1044, 133, 254, 14, 1, 21, 568, 1039, 1038, 685, 589, 133, 463, 1006, 550, 729, 1024, 744, 180, 402, 14, 62, 712, 205, 12, 597, 403, 259, 719, 1069, 360, 16, 175, 195, 62, 1058, 12, 719, 432, 451, 749, 133, 925, 791, 137, 1007, 681, 13, 1007, 753, 740, 246, 1007, 797, 738, 775, 744, 1007, 866, 14, 1, 88, 12, 259, 72, 0, 1, 62, 871, 14, 68, 1097, 133, 920, 744, 133, 378, 13, 174, 748, 1036, 378, 12, 944, 589, 1007, 837, 1065, 133, 1092, 14, 1, 29, 72, 13, 133, 104, 0, 1, 62, 318, 14, 56, 1097, 910, 16, 257, 62, 453, 565, 290, 230, 685, 12, 247, 133, 658, 833, 14, 1, 127, 133, 1136, 0, 75, 1130, 133, 380, 654, 13, 257, 749, 419, 487, 14, 131, 671, 271, 12, 1113, 352, 1148, 505, 606, 17, 1, 56, 178, 924, 15, 1, 81, 14, 104, 501, 606, 1037, 685, 14, 1, 1, 19, 13, 62, 1155, 2, 1155, 618, 1148, 416, 617, 1007, 106, 14, 56, 1097, 970, 174, 594, 560, 14, 1, 1, 62, 1155, 2, 1155, 13, 1031, 156, 14, 14, 14, 14, 102, 889, 473, 685, 1037, 767, 565, 1111, 550, 1097, 334, 14, 1, 1, 128, 550, 1097, 334, 17, 131, 17, 1, 62, 718, 547, 643, 133, 658, 1041, 713, 169, 413, 1028, 719, 982, 12, 473, 550, 178, 1130, 133, 344, 629, 15, 1, 130, 13, 896, 2, 1155, 174, 206, 913, 12, 1148, 618, 12, 81, 14, 104, 14, 57, 753, 584, 1097, 1037, 547, 565, 377, 259, 133, 447, 769, 13, 160, 12, 803, 104, 0, 102, 1024, 606, 1007, 980, 1103, 744, 819, 568, 527, 13, 744, 475, 606, 749, 133, 825, 824, 14, 21, 198, 1007, 702, 62, 1097, 132, 1007, 132, 447, 769, 14, 1, 1, 19, 12, 803, 104, 13, 195, 1148, 876, 14, 124, 132, 1006, 132, 568, 569, 17, 1, 1, 108, 1097, 568, 569, 14, 102, 232, 589, 565, 12, 512, 589, 565, 13, 756, 1024, 896, 352, 14, 28, 896, 1155, 2, 1155, 219, 733, 1037, 547, 163, 1007, 383, 1130, 558, 14, 102, 1155, 2, 1155, 219, 1007, 437, 1006, 12, 749, 1081, 333, 12, 751, 310, 167, 505, 723, 409, 1037, 882, 568, 792, 14, 94, 1133, 0, 102, 2, 1155, 612, 133, 488, 529, 473, 757, 489, 14, 104, 605, 1007, 753, 1119, 62, 418, 617, 14, 1, 1, 131, 418, 617, 17, 28, 1148, 612, 871, 13, 1, 44, 531, 133, 325, 926, 589, 568, 434, 14, 1, 88, 12, 62, 617, 565, 12, 175, 550, 617, 685, 13, 753, 606, 543, 156, 550, 1097, 334, 14, 1, 62, 387, 719, 1091, 597, 14, 1, 128, 896, 889, 473, 1148, 17, 1, 1, 130, 13, 835, 595, 1037, 1007, 602, 14, 102, 1095, 565, 1087, 13, 175, 259, 685, 0, 1, 56, 630, 158, 12, 175, 1027, 209, 568, 553, 1037, 664, 1072, 198, 1007, 920, 744, 1007, 378, 14, 1, 112, 1109, 333, 1111, 62, 1155, 2, 1155, 664, 198, 1006, 1017, 13, 1155, 2, 1155, 435, 606, 14, 28, 62, 474, 720, 1037, 828, 606, 559, 16, 175, 736, 606, 2, 1155, 323, 685, 13, 323, 685, 14, 108, 2, 1155, 1007, 844, 1121, 62, 1155, 2, 1155, 328, 179, 707, 12, 719, 336, 97, 16, 756, 840, 104, 566, 605, 1007, 844, 14, 1, 41, 1007, 459, 1032, 719, 585, 324, 136, 719, 298, 1058, 600, 133, 890, 346, 1037, 1068, 565, 235, 14, 1, 62, 1129, 1148, 2, 1155, 998, 685, 579, 606, 543, 12, 1, 62, 871, 14, 56, 949, 666, 1072, 198, 1007, 920, 12, 175, 1062, 236, 568, 458, 133, 281, 550, 531, 480, 1037, 649, 14, 107, 550, 1058, 1045, 685, 14, 1, 62, 2, 1155, 840, 651, 1037, 998, 1148, 13, 223, 62, 2, 1155, 167, 985, 1148, 744, 660, 719, 1139, 14, 1, 62, 676, 133, 344, 504, 12, 1114, 550, 725, 1130, 133, 519, 906, 14, 1, 88, 12, 62, 1155, 2, 1155, 266, 133, 957, 1111, 62, 232, 589, 720, 13, 175, 736, 606, 2, 1155, 174, 148, 1030, 236, 1077, 0, 1, 56, 630, 923, 12, 1131, 239, 12, 175, 827, 751, 744, 1007, 337, 190, 484, 14, 1, 112, 15, 677, 1153, 296, 13, 175, 559, 187, 1007, 282, 1148, 651, 14, 1, 56, 796, 1009, 198, 719, 400, 175, 307, 1037, 1093, 1072, 175, 379, 1007, 866, 12, 951, 736, 175, 1010, 233, 1007, 791, 14, 1, 61, 606, 543, 17, 62, 262, 998, 1148, 589, 462, 698, 13, 175, 606, 1155, 2, 1155, 992, 713, 663, 1037, 542, 14, 14, 14, 14, 62, 262, 853, 736, 579, 983, 175, 799, 62, 1097, 1111, 62, 520, 81, 14, 104, 2, 1155, 734, 14, 87, 315, 12, 337, 379, 12, 62, 531, 167, 132, 453, 132, 1011, 1097, 731, 751, 651, 565, 13, 753, 62, 531, 516, 1130, 1007, 958, 12, 393, 1007, 1079, 798, 136, 565, 12, 1031, 62, 534, 520, 1037, 1019, 550, 1097, 133, 440, 12, 751, 744, 1007, 615, 1006, 187, 639, 230, 14, 29, 72, 12, 175, 550, 132, 1097, 132, 639, 230, 13, 223, 550, 531, 295, 1037, 946, 0, 110, 861, 744, 1077, 531, 1037, 643, 759, 216, 989, 166, 756, 514, 1065, 12, 257, 550, 1097, 564, 137, 1007, 326, 13, 749, 419, 487, 12, 195, 1148, 876, 14, 1, 126, 12, 62, 1108, 745, 1037, 1007, 578, 589, 719, 708, 398, 705, 13, 840, 712, 12, 74, 479, 685, 12, 198, 1007, 783, 744, 803, 104, 2, 1155, 267, 744, 440, 231, 320, 259, 1007, 513, 744, 719, 770, 565, 0, 87, 315, 62, 686, 1037, 372, 1007, 791, 473, 735, 13, 62, 1038, 81, 14, 104, 929, 1111, 896, 228, 1037, 942, 933, 136, 558, 807, 14, 62, 853, 506, 745, 133, 820, 790, 136, 1007, 572, 231, 132, 696, 132, 13, 747, 12, 62, 1097, 816, 12, 719, 336, 97, 0, 62, 1097, 805, 1037, 720, 651, 751, 744, 719, 764, 919, 14, 1, 111, 62, 1097, 993, 1072, 175, 639, 165, 1130, 565, 14, 62, 531, 889, 163, 719, 1049, 589, 152, 12, 175, 62, 531, 753, 1037, 891, 1072, 1007, 391, 175, 505, 1037, 1139, 14, 56, 531, 226, 334, 753, 1060, 577, 12, 175, 550, 354, 971, 12, 744, 556, 365, 12, 929, 1006, 1011, 531, 226, 731, 809, 1139, 744, 348, 13, 568, 435, 1097, 288, 175, 1070, 14, 62, 531, 692, 565, 750, 756, 1061, 12, 1145, 227, 12, 175, 1024, 565, 596, 175, 357, 14, 85, 62, 875, 1006, 550, 1097, 978, 14, 1, 62, 1097, 509, 198, 459, 12, 1130, 133, 691, 153, 873, 15, 509, 1037, 547, 719, 538, 749, 970, 133, 2, 967, 14, 2, 111, 568, 956, 646, 228, 1037, 154, 685, 831, 13, 195, 62, 240, 1007, 553, 589, 62, 453, 195, 587, 550, 1109, 1100, 685, 372, 606, 14, 110, 887, 1097, 470, 259, 1007, 1024, 15, 587, 550, 132, 1109, 132, 1100, 685, 12, 1110, 1142, 550, 876, 1037, 719, 1103, 744, 1140, 17, 82, 960, 228, 1037, 514, 133, 658, 1126, 13, 62, 453, 726, 175, 1064, 14, 1, 90, 12, 1111, 62, 665, 1072, 12, 62, 883, 1037, 882, 133, 926, 230, 568, 290, 524, 220, 13, 195, 587, 550, 531, 1007, 881, 12, 175, 1109, 173, 566, 259, 570, 606, 209, 494, 685, 14, 108, 421, 685, 947, 707, 14, 110, 881, 17, 129, 12, 62, 531, 133, 881, 1141, 1059, 744, 568, 0, 62, 331, 198, 1007, 263, 497, 12, 175, 1054, 931, 744, 719, 244, 1053, 14, 28, 1014, 439, 685, 12, 1014, 321, 14, 62, 875, 1006, 550, 1155, 2, 1155, 1100, 1007, 905, 238, 13, 62, 1155, 2, 1155, 370, 568, 202, 16, 550, 612, 614, 568, 434, 749, 1007, 544, 779, 236, 14, 115, 1109, 1007, 752, 62, 531, 167, 898, 12, 756, 316, 1072, 1130, 931, 675, 767, 14, 21, 579, 550, 875, 1028, 719, 644, 0, 1, 62, 665, 1072, 158, 12, 175, 268, 908, 744, 1006, 920, 744, 1007, 378, 541, 749, 1007, 1092, 723, 568, 225, 14, 60, 1124, 1038, 685, 157, 606, 1097, 1007, 624, 1017, 550, 531, 377, 13, 612, 133, 734, 993, 1130, 133, 894, 538, 12, 1111, 550, 1097, 379, 589, 36, 846, 494, 133, 813, 556, 201, 14, 73, 133, 734, 0, 28, 606, 999, 568, 1119, 569, 14, 112, 187, 1145, 744, 784, 880, 788, 589, 420, 653, 14, 18, 678, 1118, 531, 990, 1130, 1007, 326, 310, 729, 547, 634, 1006, 694, 1073, 959, 14, 14, 14, 14, 1, 62, 1058, 209, 1037, 719, 1139, 12, 175, 1108, 749, 529, 175, 714, 16, 1010, 62, 665, 198, 1007, 378, 158, 14, 62, 875, 1006, 12, 1111, 104, 620, 589, 1007, 459, 959, 12, 550, 617, 612, 1110, 1007, 405, 1142, 216, 14, 56, 531, 806, 568, 967, 12, 140, 606, 12, 847, 606, 14, 128, 531, 62, 377, 1006, 1130, 179, 744, 719, 1018, 17, 113, 1155, 2, 1155, 226, 241, 744, 685, 13, 62, 531, 612, 150, 1009, 14, 14, 14, 14, 1, 54, 606, 12, 97, 12, 1130, 1006, 435, 1100, 685, 62, 1155, 2, 1155, 372, 176, 959, 14, 110, 797, 1057, 1097, 12, 62, 1155, 2, 1155, 618, 1113, 1037, 828, 606, 13, 132, 62, 531, 729, 619, 132, 14, 91, 12, 1130, 719, 919, 175, 719, 824, 12, 133, 905, 939, 744, 294, 316, 1072, 1007, 437, 13, 62, 612, 1027, 767, 600, 1008, 436, 14, 14, 14, 14, 126, 12, 767, 1097, 1007, 751, 688, 1022, 334, 434, 310, 882, 1028, 13, 882, 953, 1037, 1007, 1043, 487, 1067, 14, 1155, 2, 1155, 1148, 618, 579, 12, 589, 994, 133, 477, 623, 12, 416, 467, 12, 751, 878, 534, 1007, 1032, 733, 1110, 751, 1096, 1037, 257, 1110, 751, 262, 17, 126, 13, 1006, 1097, 1007, 1103, 62, 768, 16, 175, 195, 550, 631, 1011, 175, 1099, 685, 12, 1007, 1017, 1014, 260, 719, 2, 1155, 2, 293, 651, 133, 578, 744, 265, 14, 56, 1155, 2, 1155, 928, 12, 1148, 1068, 12, 803, 104, 13, 550, 612, 631, 1011, 834, 1100, 12, 175, 749, 568, 656, 12, 1028, 1007, 523, 220, 12, 62, 883, 1037, 554, 1007, 832, 15, 2, 1155, 1148, 979, 1148, 618, 1113, 1148, 2, 1155, 297, 760, 17, 2, 1, 66, 62, 310, 547, 768, 1006, 435, 12, 1130, 1006, 832, 749, 606, 12, 62, 900, 547, 377, 133, 525, 1017, 14, 110, 730, 526, 1017, 1097, 1037, 882, 1006, 62, 1155, 2, 1155, 13, 175, 1006, 521, 1097, 508, 685, 14, 28, 12, 747, 12, 198, 1006, 697, 12, 97, 12, 1097, 1011, 180, 749, 389, 62, 1155, 2, 1155, 547, 508, 1037, 547, 104, 162, 227, 685, 12, 175, 1037, 554, 565, 876, 15, 2, 68, 2, 1155, 733, 1041, 625, 13, 62, 2, 1155, 903, 1148, 579, 2, 17, 1, 68, 132, 1097, 132, 1041, 625, 13, 606, 1142, 547, 226, 12, 416, 587, 550, 2, 1155, 226, 162, 14, 62, 765, 1072, 719, 1049, 12, 175, 1108, 379, 175, 1038, 81, 14, 104, 14, 87, 315, 62, 1155, 2, 1155, 998, 558, 132, 1006, 132, 13, 606, 1142, 547, 226, 48, 1037, 558, 14, 62, 915, 871, 62, 1155, 2, 1155, 767, 565, 12, 1006, 62, 1097, 1041, 712, 14, 102, 840, 652, 1007, 584, 13, 896, 2, 1155, 929, 865, 0, 68, 1097, 1006, 1006, 676, 558, 507, 685, 1007, 378, 14, 28, 896, 1097, 1004, 1075, 198, 733, 506, 1007, 804, 13, 896, 352, 929, 1094, 565, 2, 377, 2, 259, 931, 751, 905, 0, 24, 459, 62, 1097, 155, 896, 1155, 2, 1155, 643, 685, 745, 13, 175, 198, 719, 1155, 2, 405, 62, 974, 49, 14, 130, 12, 606, 1097, 62, 1118, 945, 49, 15, 62, 1038, 81, 14, 104, 550, 1097, 1007, 2, 297, 2, 678, 12, 175, 896, 1038, 932, 402, 12, 175, 929, 606, 520, 1037, 216, 1056, 14, 14, 14, 14, 21, 550, 768, 104, 1131, 1127, 16, 175, 896, 581, 1007, 791, 171, 558, 582, 2, 1155, 1018, 14, 14, 14, 14, 1, 56, 468, 566, 379, 589, 1007, 189, 723, 696, 12, 620, 209, 568, 553, 12, 175, 287, 568, 191, 233, 606, 12, 665, 1072, 198, 1007, 791, 137, 1007, 278, 14, 1, 62, 651, 1037, 446, 1006, 104, 566, 1142, 547, 508, 606, 1037, 685, 12, 587, 550, 2, 1155, 226, 135, 1037, 876, 1110, 550, 1024, 1006, 332, 14, 1, 21, 12, 589, 177, 1037, 133, 832, 62, 828, 536, 13, 1, 26, 158, 17, 1, 550, 464, 760, 14, 1, 128, 1007, 751, 1017, 1006, 250, 685, 181, 723, 565, 605, 1006, 62, 617, 409, 1037, 637, 745, 17, 1, 56, 949, 1072, 175, 620, 568, 538, 749, 719, 901, 1130, 133, 629, 14, 1, 91, 1007, 602, 744, 606, 605, 1006, 62, 132, 168, 132, 947, 770, 13, 916, 49, 2, 1155, 374, 606, 473, 685, 0, 110, 106, 943, 165, 12, 175, 542, 750, 13, 257, 1011, 2, 1155, 731, 430, 758, 615, 744, 192, 14, 1] \n",
            "\n"
          ]
        }
      ],
      "source": [
        "tokenizer = SimpleTokenizerV1(vocabulary)\n",
        "ids = tokenizer.encode(text)\n",
        "print(ids, '\\n')\n",
        "print(tokenizer.decode(ids))\n",
        "\n",
        "tokenizer_2 = SimpleTokenizerV2(vocabulary)\n",
        "ids = tokenizer_2.encode(text)\n",
        "print(ids, '\\n')\n",
        "\n"
      ]
    },
    {
      "cell_type": "markdown",
      "metadata": {
        "id": "_ekzwjRfHMgc"
      },
      "source": [
        "## Data Sampling with Sliding Window\n",
        "\n",
        "this is the main logic used behind next-word predicion tasks. we use a context size, so like how many words of context we want to give the model."
      ]
    },
    {
      "cell_type": "code",
      "execution_count": null,
      "metadata": {
        "colab": {
          "base_uri": "https://localhost:8080/"
        },
        "id": "-dzATMFPQXul",
        "outputId": "bba84794-c607-4474-c6c6-97927c49e28d"
      },
      "outputs": [
        {
          "name": "stdout",
          "output_type": "stream",
          "text": [
            "[290] ----> 4920 \n",
            "\n",
            " and ---->  established \n",
            "\n",
            "[290, 4920] ----> 2241 \n",
            "\n",
            " and established ---->  himself \n",
            "\n",
            "[290, 4920, 2241] ----> 287 \n",
            "\n",
            " and established himself ---->  in \n",
            "\n",
            "[290, 4920, 2241, 287] ----> 257 \n",
            "\n",
            " and established himself in ---->  a \n",
            "\n"
          ]
        }
      ],
      "source": [
        "enc_text = tiktoken_tokenizer.encode(text)\n",
        "enc_sample = enc_text[50:]\n",
        "\n",
        "\n",
        "context_size = 4\n",
        "context_window = enc_sample[:context_size]\n",
        "prediction_window = enc_sample[1:context_size+1]\n",
        "\n",
        "for i in range(1, context_size+1):\n",
        "  enc_context = enc_sample[:i]\n",
        "  enc_prediction = enc_sample[i]\n",
        "  print(enc_context, \"---->\", enc_prediction, '\\n')\n",
        "  print(tiktoken_tokenizer.decode(enc_context), \"---->\", tiktoken_tokenizer.decode([enc_prediction]), '\\n')"
      ]
    },
    {
      "cell_type": "markdown",
      "metadata": {
        "id": "clduulI-J8xU"
      },
      "source": [
        "## Creating Dataset / Dataloaders\n",
        "\n",
        "Important functionality to practice, might delete from my codebase and replicate for practice un"
      ]
    },
    {
      "cell_type": "code",
      "execution_count": null,
      "metadata": {
        "id": "b9O3diH7Ke-v"
      },
      "outputs": [],
      "source": [
        "import torch\n",
        "from torch.utils.data import Dataset, DataLoader\n",
        "import tiktoken\n",
        "\n",
        "# Initialize the tokenizer\n",
        "byte_tokenizer = tiktoken.get_encoding(\"gpt2\")\n",
        "\n",
        "class GPTDatasetV1(Dataset):\n",
        "  '''\n",
        "  input: raw text, tokenizer selection, length of\n",
        "  '''\n",
        "  def __init__(self, txt, tokenizer, max_length, stride):\n",
        "      self.input_ids = []\n",
        "      self.target_ids = []\n",
        "\n",
        "      # Tokenize the entire text\n",
        "      token_ids = tokenizer.encode(txt, allowed_special={\"<|endoftext|>\"})\n",
        "      assert len(token_ids) > max_length, \"Number of tokenized inputs must at least be equal to max_length+1\"\n",
        "\n",
        "      # Use a sliding window to chunk the book into overlapping sequences of max_length\n",
        "      for i in range(0, len(token_ids) - max_length, stride):\n",
        "          input_chunk = token_ids[i:i + max_length]\n",
        "          target_chunk = token_ids[i + 1: i + max_length + 1]\n",
        "          self.input_ids.append(torch.tensor(input_chunk))\n",
        "          self.target_ids.append(torch.tensor(target_chunk))\n",
        "\n",
        "  def __len__(self):\n",
        "      return len(self.input_ids)\n",
        "\n",
        "  def __getitem__(self, idx):\n",
        "      return self.input_ids[idx], self.target_ids[idx]\n",
        "\n"
      ]
    },
    {
      "cell_type": "markdown",
      "metadata": {
        "id": "yELBoyVeNItt"
      },
      "source": [
        "batch size is how many words you want per example like 3 is `['the', 'cat', 'is']`. 128 refers to the"
      ]
    },
    {
      "cell_type": "code",
      "execution_count": null,
      "metadata": {
        "id": "zbqg2zEXKbf1"
      },
      "outputs": [],
      "source": [
        "def create_dataloader_v1(txt, batch_size=4, max_length=256,\n",
        "                         stride=128, shuffle=True, drop_last=True,\n",
        "                         num_workers=0):\n",
        "\n",
        "    # Initialize the tokenizer\n",
        "    tokenizer = byte_tokenizer\n",
        "\n",
        "    # Create dataset\n",
        "    dataset = GPTDatasetV1(txt, tokenizer, max_length, stride)\n",
        "\n",
        "    # Create dataloader\n",
        "    dataloader = DataLoader(\n",
        "        dataset,\n",
        "        batch_size=batch_size,\n",
        "        shuffle=shuffle,\n",
        "        drop_last=drop_last,\n",
        "        num_workers=num_workers\n",
        "    )\n",
        "\n",
        "    return dataloader\n",
        "\n",
        "\n"
      ]
    },
    {
      "cell_type": "markdown",
      "metadata": {
        "id": "dlwomBg3PuIN"
      },
      "source": [
        "this loads the data for trainig, each index mapping to it's corresponding truth label (one word at a time)."
      ]
    },
    {
      "cell_type": "code",
      "execution_count": null,
      "metadata": {
        "colab": {
          "base_uri": "https://localhost:8080/"
        },
        "id": "Gt50DyRxKynd",
        "outputId": "0da8ba20-d214-4f56-c91b-d1ceed28b2b7"
      },
      "outputs": [
        {
          "name": "stdout",
          "output_type": "stream",
          "text": [
            "[tensor([[  40,  367, 2885, 1464]]), tensor([[ 367, 2885, 1464, 1807]])]\n"
          ]
        }
      ],
      "source": [
        "with open(\"data/the-verdict.txt\", \"r\", encoding=\"utf-8\") as f:\n",
        "    raw_text = f.read()\n",
        "\n",
        "dataloader = create_dataloader_v1(\n",
        "    raw_text, batch_size=1, max_length=4, stride=1, shuffle=False #stride 1 is one after the ote\n",
        ")\n",
        "\n",
        "dataloader_large = create_dataloader_v1(\n",
        "    raw_text, batch_size=8, max_length=4, stride=4, shuffle=False #stride 1 is one after the ote\n",
        ")\n",
        "data_iter = iter(dataloader)\n",
        "first_batch = next(data_iter)\n",
        "print(first_batch)"
      ]
    },
    {
      "cell_type": "markdown",
      "metadata": {
        "id": "mZqY0i40SL1y"
      },
      "source": [
        "## Create Token Embeddings"
      ]
    },
    {
      "cell_type": "code",
      "execution_count": null,
      "metadata": {
        "id": "eMfoq6qzK0Hj"
      },
      "outputs": [],
      "source": []
    }
  ],
  "metadata": {
    "colab": {
      "provenance": []
    },
    "kernelspec": {
      "display_name": "Python 3",
      "name": "python3"
    },
    "language_info": {
      "name": "python"
    }
  },
  "nbformat": 4,
  "nbformat_minor": 0
}
